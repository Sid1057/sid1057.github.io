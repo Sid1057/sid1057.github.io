{
 "cells": [
  {
   "cell_type": "markdown",
   "metadata": {
    "slideshow": {
     "slide_type": "slide"
    }
   },
   "source": [
    "# Как собрать свой беспилотник за 1.5 часа"
   ]
  },
  {
   "cell_type": "markdown",
   "metadata": {
    "slideshow": {
     "slide_type": "slide"
    }
   },
   "source": [
    "<!-- *Какова концепция моего мастер-класса? Я постараюсь за 1.5 часа рассказать максимально сжатую теорию по тому, как работают беспилотные системы, как можно разрабатывать и создавать их у себя дома, а также показать, насколько много готовых решений, ускоряющих процесс разработки, существует в этой сфере* \n",
    " -->\n",
    " \n",
    "## Что я постараюсь за сегодня рассказать:\n",
    "\n",
    "* Из чего состорит автопилот\n",
    "* Какие алгоритмы использует автопилот\n",
    "* Какие важные части архитектуры включает в себя автопилот\n",
    "* Каковыми могут быть итерации от SAE0 до SAE5\n",
    "* Показать протоптанные дорожки и рассказать, как этому обучаться\n",
    "* Сделать акцент на машинном обучении\n",
    "* Постарать использовать лишь те технологии, которые можно использовать в домашних условиях\n",
    "* Проэкспериментировать с форматом лекций"
   ]
  },
  {
   "cell_type": "markdown",
   "metadata": {
    "slideshow": {
     "slide_type": "subslide"
    }
   },
   "source": [
    "Что желательно уже знать:\n",
    "* Что такое нейронные сети и как их тренируют\n",
    "* Питон"
   ]
  },
  {
   "cell_type": "markdown",
   "metadata": {
    "slideshow": {
     "slide_type": "slide"
    }
   },
   "source": [
    "## Содержание\n",
    "\n",
    "* Брифинг\n",
    "* Курс молодого инженера\n",
    "* Боевое крещение\n",
    "* Разбор полетов"
   ]
  },
  {
   "cell_type": "markdown",
   "metadata": {
    "slideshow": {
     "slide_type": "slide"
    }
   },
   "source": [
    "## Глава 0. Брифинг/Подготовка"
   ]
  },
  {
   "cell_type": "markdown",
   "metadata": {
    "slideshow": {
     "slide_type": "subslide"
    }
   },
   "source": [
    "### Язык и инструметы"
   ]
  },
  {
   "cell_type": "markdown",
   "metadata": {
    "slideshow": {
     "slide_type": "subslide"
    }
   },
   "source": [
    "<img src=\"materials/python-logo.png\" alt=\"python\" width=\"500\"/>"
   ]
  },
  {
   "cell_type": "markdown",
   "metadata": {
    "slideshow": {
     "slide_type": "subslide"
    }
   },
   "source": [
    "<img src=\"materials/jupyter-logo.png\" alt=\"jupyter\" width=\"300\"/>"
   ]
  },
  {
   "cell_type": "markdown",
   "metadata": {
    "slideshow": {
     "slide_type": "subslide"
    }
   },
   "source": [
    "<img src=\"materials/opencv-logo2.png\" alt=\"opencv\" width=\"300\"/>"
   ]
  },
  {
   "cell_type": "markdown",
   "metadata": {
    "slideshow": {
     "slide_type": "slide"
    }
   },
   "source": [
    "### Архитектура в общем виде"
   ]
  },
  {
   "cell_type": "markdown",
   "metadata": {},
   "source": [
    "<img src=\"materials/perception_planning_control.png\" alt=\"arch\" width=\"800\"/>"
   ]
  },
  {
   "cell_type": "markdown",
   "metadata": {
    "slideshow": {
     "slide_type": "slide"
    }
   },
   "source": [
    "### Control"
   ]
  },
  {
   "cell_type": "markdown",
   "metadata": {
    "slideshow": {
     "slide_type": "fragment"
    }
   },
   "source": [
    "**Где взять модуль контроля?**"
   ]
  },
  {
   "cell_type": "markdown",
   "metadata": {
    "slideshow": {
     "slide_type": "subslide"
    }
   },
   "source": [
    "Вариант 1 (с кучей денег и репутацией)\n",
    "\n",
    "1. Делаете себе имя среди компаний по производству беспилотных автомобилей\n",
    "1. Договариваетесь с автопроизводителем о создании совместного продукта\n",
    "1. Ждете выхода достаточно современного и технологически полного автомобиля, который вы сможете контролировать через некоторый интерфейс\n",
    "1. Готово. Теперь вы можете контролировать этот автомобиль.\n",
    "\n",
    "<img src=\"materials/moneyman.jpg\" alt=\"igetmoney\" width=\"300\"/>"
   ]
  },
  {
   "cell_type": "markdown",
   "metadata": {
    "slideshow": {
     "slide_type": "subslide"
    }
   },
   "source": [
    "Вариант 2 (с паяльником)\n",
    "\n",
    "1. Взять автомобиль с функциями круиз контроля, паркингом и т. п.\n",
    "1. Взломать их CAN шину, чтобы понять, как отправлять сигналы на управление скоростью.\n",
    "1. Купить переходничок CAN-USB в переходе.\n",
    "1. Готово. Теперь вы можете контролировать (**частично**) этот автомобиль.\n",
    "\n",
    "см. comma.ai (NB: смотри, но лучше не пользуйся, ибо затея эта крайне авантюрная, и гост она точно не пройдет)\n",
    "\n",
    "<img src=\"materials/comma.jpg\" alt=\"comma\" width=\"300\"/>"
   ]
  },
  {
   "cell_type": "markdown",
   "metadata": {
    "slideshow": {
     "slide_type": "subslide"
    }
   },
   "source": [
    "Вариант 3 (с кучей реле, сервоприводов и инженеров в команде)\n",
    "\n",
    "1. Взять автомобиль, проехаться на нем, посмотреть, какие педальки, ручки, колесики и кнопочки вы используете\n",
    "1. Собрать полностбю механизированного робота, который сможет по команде повторять ваши действия за автомобилем\n",
    "1. Готово.\n",
    "\n",
    "<img src=\"materials/fedor.jpg\" alt=\"fedor\" width=\"300\"/>"
   ]
  },
  {
   "cell_type": "markdown",
   "metadata": {
    "slideshow": {
     "slide_type": "subslide"
    }
   },
   "source": [
    "Вариант 4 (виртуальный)\n",
    "\n",
    "1. Взять компьютерный симулятор автомобиля\n",
    "1. Готово.\n",
    "\n",
    "<img src=\"materials/gta5_pure.jpg\" alt=\"speed\" width=\"400\"/>"
   ]
  },
  {
   "cell_type": "markdown",
   "metadata": {
    "slideshow": {
     "slide_type": "slide"
    }
   },
   "source": [
    "<img src=\"materials/gta5.jpg\" alt=\"speed\" width=\"400\"/>\n",
    "\n",
    "[*Sendtex: https://www.youtube.com/playlist?list=PLQVvvaa0QuDeETZEOy4VdocT7TOjfSA8a*](https://www.youtube.com/playlist?list=PLQVvvaa0QuDeETZEOy4VdocT7TOjfSA8a)"
   ]
  },
  {
   "cell_type": "markdown",
   "metadata": {
    "slideshow": {
     "slide_type": "subslide"
    }
   },
   "source": [
    "<img src=\"materials/drake0.jpg\" alt=\"drake meme\" width=\"300\"/>\n",
    "\n",
    "В симуляторе можно:\n",
    "* Получать ground truth\n",
    "* Получать контроль миром через api (ТС, пешеходы, погодные условия)\n",
    "* Генерировать, записывать и воспроизводить логи с нужными дорожными ситуациями\n",
    "* Запускать сразу несколько беспилотников\n",
    "* Создавать синтетические датасеты (в хороших симуляторах)\n",
    "* Сиумляция разнообразных датчиков (но нам почти не понадобится)\n",
    "* Реализовать обучение с подкреплением"
   ]
  },
  {
   "cell_type": "markdown",
   "metadata": {
    "slideshow": {
     "slide_type": "slide"
    }
   },
   "source": [
    "<img src=\"materials/carla-logo.png\" alt=\"carla\" width=\"300\"/>"
   ]
  },
  {
   "cell_type": "markdown",
   "metadata": {
    "slideshow": {
     "slide_type": "subslide"
    }
   },
   "source": [
    "<img src=\"materials/carla_example.png\" alt=\"carla example\" width=\"700\"/>"
   ]
  },
  {
   "cell_type": "markdown",
   "metadata": {
    "slideshow": {
     "slide_type": "subslide"
    }
   },
   "source": [
    "<img src=\"materials/carla_example2.jpg\" alt=\"carla example\" width=\"700\"/>"
   ]
  },
  {
   "cell_type": "markdown",
   "metadata": {
    "slideshow": {
     "slide_type": "fragment"
    }
   },
   "source": [
    "Пара слов о *OSVF*"
   ]
  },
  {
   "cell_type": "markdown",
   "metadata": {
    "slideshow": {
     "slide_type": "slide"
    }
   },
   "source": [
    "### Что будем делать?"
   ]
  },
  {
   "cell_type": "markdown",
   "metadata": {
    "slideshow": {
     "slide_type": "subslide"
    }
   },
   "source": [
    "А давайте сначала подумаем, что такое беспилотник?\n",
    "\n",
    "<img src=\"materials/vehicle.jpg\" alt=\"simple way\" width=\"600\"/>"
   ]
  },
  {
   "cell_type": "markdown",
   "metadata": {
    "slideshow": {
     "slide_type": "fragment"
    }
   },
   "source": [
    "**Ключевое требование - обеспечить сохранность всех участников дорожнего движения**"
   ]
  },
  {
   "cell_type": "markdown",
   "metadata": {
    "slideshow": {
     "slide_type": "subslide"
    }
   },
   "source": [
    "<img src=\"materials/SAE lEVELS.png\" alt=\"SAE\" width=\"1000\"/>"
   ]
  },
  {
   "cell_type": "markdown",
   "metadata": {
    "slideshow": {
     "slide_type": "subslide"
    }
   },
   "source": [
    "<img src=\"materials/speed_poster.jpg\" alt=\"speed\" width=\"300\"/>"
   ]
  },
  {
   "cell_type": "markdown",
   "metadata": {
    "slideshow": {
     "slide_type": "subslide"
    }
   },
   "source": [
    "<img src=\"materials/topdown.png\" alt=\"top_down\" width=\"600\"/>"
   ]
  },
  {
   "cell_type": "markdown",
   "metadata": {
    "slideshow": {
     "slide_type": "subslide"
    }
   },
   "source": [
    "[![IMAGE ALT TEXT HERE](https://img.youtube.com/vi/Aut32pR5PQA/0.jpg)](https://www.youtube.com/embed/Aut32pR5PQA)"
   ]
  },
  {
   "cell_type": "markdown",
   "metadata": {
    "slideshow": {
     "slide_type": "subslide"
    }
   },
   "source": [
    "Мы начнем L1, фиксация препятствий в зоне видимости"
   ]
  },
  {
   "cell_type": "markdown",
   "metadata": {
    "slideshow": {
     "slide_type": "slide"
    }
   },
   "source": [
    "### Выбор датчиков"
   ]
  },
  {
   "cell_type": "markdown",
   "metadata": {
    "slideshow": {
     "slide_type": "fragment"
    }
   },
   "source": [
    "* Нам точно нужно распознавать препятствия\n",
    "* Нужно распознавать проходимый путь (не пересекать сплошную и т. п.)\n",
    "* Нужно распознавать объекты инфраструктуры (сигналы светофора и т. п.)"
   ]
  },
  {
   "cell_type": "markdown",
   "metadata": {
    "slideshow": {
     "slide_type": "skip"
    }
   },
   "source": [
    "<img src=\"materials/3dways.png\" alt=\"3dsensors\" width=\"700\"/>"
   ]
  },
  {
   "cell_type": "markdown",
   "metadata": {
    "slideshow": {
     "slide_type": "slide"
    }
   },
   "source": [
    "#### Камеры"
   ]
  },
  {
   "cell_type": "markdown",
   "metadata": {
    "slideshow": {
     "slide_type": "subslide"
    }
   },
   "source": [
    "##### Визуальный спектр"
   ]
  },
  {
   "cell_type": "markdown",
   "metadata": {
    "slideshow": {
     "slide_type": "fragment"
    }
   },
   "source": [
    "<img src=\"materials/basler.png\" alt=\"balser\" width=\"300\"/>"
   ]
  },
  {
   "cell_type": "markdown",
   "metadata": {
    "slideshow": {
     "slide_type": "subslide"
    }
   },
   "source": [
    "<img src=\"materials/Screenshot at 2019-10-11 18-43-24.png\" alt=\"balser\" width=\"600\"/>"
   ]
  },
  {
   "cell_type": "markdown",
   "metadata": {
    "slideshow": {
     "slide_type": "subslide"
    }
   },
   "source": [
    "Как применять:\n",
    "* Распознавание дорожной обстановки (светофоры, полотно, люди, машины)\n",
    "* Визуальная одометрия\n",
    "* Стриминг видео\n",
    "* SFM"
   ]
  },
  {
   "cell_type": "markdown",
   "metadata": {
    "slideshow": {
     "slide_type": "fragment"
    }
   },
   "source": [
    "|Достоинства|Недостатки|\n",
    "|-|-|\n",
    "|Огромный выбор различных вариаций на рынке|Данные становятся полезными только после их обработки|\n",
    "|Доступная цена|Множество параметров при выборе (разрешение, матрицы, аппаратная фунециональность)|\n",
    "|Огромное количество информации, достаточной для человека||\n",
    "|Вариативность объективов||\n",
    "|||"
   ]
  },
  {
   "cell_type": "markdown",
   "metadata": {
    "slideshow": {
     "slide_type": "subslide"
    }
   },
   "source": [
    "##### Стерео камеры"
   ]
  },
  {
   "cell_type": "markdown",
   "metadata": {
    "slideshow": {
     "slide_type": "fragment"
    }
   },
   "source": [
    "<img src=\"materials/intelrealsense.jpg\" alt=\"intel\" width=\"300\"/>\n",
    "<img src=\"materials/stereo_shema.png\" alt=\"stereo shema\" width=\"300\"/>"
   ]
  },
  {
   "cell_type": "markdown",
   "metadata": {
    "slideshow": {
     "slide_type": "subslide"
    }
   },
   "source": [
    "|Достоинства|Недостатки|\n",
    "|-|-|\n",
    "|Есть как готовые решения, так и возможности собрать самостоятельно|Вычислительная сложность|\n",
    "|Большая плотность данных (зависит от разрешения и алгоритма)|Трудности с калибровкой|\n",
    "|На выходе облако 3D точек и их цвет|Нелинейная ошибка|\n",
    "|Возможность подстроиться под интересующую зону интересов|Необходимость грамотного подхода к выбору зоны интересов|\n",
    "||Необходимость синхронизации затворов камер|"
   ]
  },
  {
   "cell_type": "markdown",
   "metadata": {
    "slideshow": {
     "slide_type": "subslide"
    }
   },
   "source": [
    "##### Структурированный свет"
   ]
  },
  {
   "cell_type": "markdown",
   "metadata": {
    "slideshow": {
     "slide_type": "fragment"
    }
   },
   "source": [
    "<img src=\"materials/kinect.jpg\" alt=\"kinect\" width=\"300\"/>\n",
    "<img src=\"materials/structured_schema.png\" alt=\"structured light shema\" width=\"300\"/>"
   ]
  },
  {
   "cell_type": "markdown",
   "metadata": {
    "slideshow": {
     "slide_type": "fragment"
    }
   },
   "source": [
    "|Достоинства|Недостатки|\n",
    "|-|-|\n",
    "|Дешевое решение|Низкая дальность|\n",
    "|Большая плотность точек реконструкции||\n",
    "|На выходе облако 3D точек и их цвет||"
   ]
  },
  {
   "cell_type": "markdown",
   "metadata": {
    "slideshow": {
     "slide_type": "subslide"
    }
   },
   "source": [
    "##### Ик (ближний, SWIR, тепловизоры)"
   ]
  },
  {
   "cell_type": "markdown",
   "metadata": {
    "slideshow": {
     "slide_type": "fragment"
    }
   },
   "source": [
    "<img src=\"materials/ir1.jpg\" alt=\"ir\" width=\"300\"/>\n",
    "<img src=\"materials/ir2.jpg\" alt=\"ir\" width=\"300\"/>"
   ]
  },
  {
   "cell_type": "markdown",
   "metadata": {
    "slideshow": {
     "slide_type": "subslide"
    }
   },
   "source": [
    "<img src=\"materials/ir_heat.png\" alt=\"heatmap\" width=\"300\"/>"
   ]
  },
  {
   "cell_type": "markdown",
   "metadata": {
    "slideshow": {
     "slide_type": "fragment"
    }
   },
   "source": [
    "Матрицы камер работают в различных ИК диапозонах (могут включать в том числе и видимый спектр)"
   ]
  },
  {
   "cell_type": "markdown",
   "metadata": {
    "slideshow": {
     "slide_type": "fragment"
    }
   },
   "source": [
    "|Достоинства|Недостатки|\n",
    "|-|-|\n",
    "|Работа в условиях низкой освещенности|Диапозон, предоставляющий наиболее подробную информацию о температуре, стоит очень дорого|\n",
    "|Отлично подходят для распознавания людей и работающей техники|Диапозон, предоставляющий наиболее подробную информацию о температуре, накладывает расходы на установку|"
   ]
  },
  {
   "cell_type": "markdown",
   "metadata": {
    "slideshow": {
     "slide_type": "subslide"
    }
   },
   "source": [
    "##### ToF"
   ]
  },
  {
   "cell_type": "markdown",
   "metadata": {
    "slideshow": {
     "slide_type": "fragment"
    }
   },
   "source": [
    "<img src=\"materials/tof.jpg\" alt=\"tof\" width=\"300\"/>\n",
    "<img src=\"materials/kinect2.jpg\" alt=\"kinect2\" width=\"300\"/>"
   ]
  },
  {
   "cell_type": "markdown",
   "metadata": {
    "slideshow": {
     "slide_type": "subslide"
    }
   },
   "source": [
    "<img src=\"materials/kinect_schema.png\" alt=\"shema\" width=\"300\"/>"
   ]
  },
  {
   "cell_type": "markdown",
   "metadata": {
    "slideshow": {
     "slide_type": "fragment"
    }
   },
   "source": [
    "|Достоинства|Недостатки|\n",
    "|-|-|\n",
    "|Небольшой размер|Низкая дальность|\n",
    "|Точность|Чувствительность к фоновому свету|\n",
    "|Частота до 160Гц||"
   ]
  },
  {
   "cell_type": "markdown",
   "metadata": {
    "slideshow": {
     "slide_type": "subslide"
    }
   },
   "source": [
    "Характеристики готовых решений: https://rosindustrial.org/3d-camera-survey"
   ]
  },
  {
   "cell_type": "markdown",
   "metadata": {
    "slideshow": {
     "slide_type": "slide"
    }
   },
   "source": [
    "##### Лидары"
   ]
  },
  {
   "cell_type": "markdown",
   "metadata": {
    "slideshow": {
     "slide_type": "fragment"
    }
   },
   "source": [
    "<img src=\"materials/velodyne.jpg\" alt=\"velodyne\" width=\"300\"/>"
   ]
  },
  {
   "cell_type": "markdown",
   "metadata": {
    "slideshow": {
     "slide_type": "fragment"
    }
   },
   "source": [
    "Принцип работы заключается в лучевом лазерном сканировании"
   ]
  },
  {
   "cell_type": "markdown",
   "metadata": {
    "slideshow": {
     "slide_type": "subslide"
    }
   },
   "source": [
    "|Достоинства|Недостатки|\n",
    "|-|-|\n",
    "|Высокая точность облака точек|Высокая стоимость|\n",
    "|Простота разработки|Более дешевые модели имеют проблемы с пороговым сигналом переотражения|\n",
    "|Частота работы 10+ Гц|Ненадежность в сложных условиях эксплуатации|"
   ]
  },
  {
   "cell_type": "markdown",
   "metadata": {
    "slideshow": {
     "slide_type": "slide"
    }
   },
   "source": [
    "##### Радары"
   ]
  },
  {
   "cell_type": "markdown",
   "metadata": {
    "slideshow": {
     "slide_type": "fragment"
    }
   },
   "source": [
    "<img src=\"materials/radar.jpg\" alt=\"radar\" width=\"300\"/>"
   ]
  },
  {
   "cell_type": "markdown",
   "metadata": {
    "slideshow": {
     "slide_type": "fragment"
    }
   },
   "source": [
    "|Достоинства|Недостатки|\n",
    "|-|-|\n",
    "|Точность определения дистанции|Низкая разрешающая способность|\n",
    "|Получения данных о скорости объектов|Необходимость фильтрации данных, особенно в условиях эксплуатации среди множество металлических предметов|\n",
    "|Доступный ценовой диапозон||\n",
    "|Надежность в сложных погодных условиях||"
   ]
  },
  {
   "cell_type": "markdown",
   "metadata": {
    "slideshow": {
     "slide_type": "subslide"
    }
   },
   "source": [
    "Мы остановимся на одной обычной камере:\n",
    "* Дешево\n",
    "* Достаточно для человека\n",
    "* Большое количество открытых данных"
   ]
  },
  {
   "cell_type": "markdown",
   "metadata": {
    "slideshow": {
     "slide_type": "slide"
    }
   },
   "source": [
    "## Что делать с данными от сенсоров?"
   ]
  },
  {
   "cell_type": "markdown",
   "metadata": {
    "slideshow": {
     "slide_type": "subslide"
    }
   },
   "source": [
    "#### Обнаружение препятствий/обнаружение проходимого пути классическими методами компьютерного зрения"
   ]
  },
  {
   "cell_type": "markdown",
   "metadata": {
    "slideshow": {
     "slide_type": "fragment"
    }
   },
   "source": [
    "* Structure from motion\n",
    "\n",
    "<img src=\"materials/sfm.jpeg\" alt=\"sfm\" width=\"500\"/>"
   ]
  },
  {
   "cell_type": "markdown",
   "metadata": {
    "slideshow": {
     "slide_type": "subslide"
    }
   },
   "source": [
    "* Stereo Vision\n",
    "\n",
    "<img src=\"materials/stereo_obstacles.jpeg\" alt=\"stereo\" width=\"500\"/>"
   ]
  },
  {
   "cell_type": "markdown",
   "metadata": {
    "slideshow": {
     "slide_type": "subslide"
    }
   },
   "source": [
    "#### Локализация и одометрия"
   ]
  },
  {
   "cell_type": "markdown",
   "metadata": {
    "slideshow": {
     "slide_type": "fragment"
    }
   },
   "source": [
    "<img src=\"materials/slam.png\" alt=\"slam\" width=\"600\"/>\n"
   ]
  },
  {
   "cell_type": "markdown",
   "metadata": {
    "slideshow": {
     "slide_type": "fragment"
    }
   },
   "source": [
    "* SLAM\n",
    "    1. Найти некоторые ключевые точки\n",
    "    2. Сохранить их в карту\n",
    "    3. Использовать смщение относительно известных ключевых точек для определения движения"
   ]
  },
  {
   "cell_type": "markdown",
   "metadata": {
    "slideshow": {
     "slide_type": "slide"
    }
   },
   "source": [
    "### Глубокое машинное обучение"
   ]
  },
  {
   "cell_type": "markdown",
   "metadata": {
    "slideshow": {
     "slide_type": "subslide"
    }
   },
   "source": [
    "#### 4 Основные задач компьютерного зрения и машинного обучения\n",
    "\n",
    "<img src=\"materials/tasks.png\" alt=\"speed\" width=\"500\"/>"
   ]
  },
  {
   "cell_type": "markdown",
   "metadata": {
    "slideshow": {
     "slide_type": "fragment"
    }
   },
   "source": [
    "- Классификация: в кадре находится шар\n",
    "- Семантическая сегментация: в кадре находится шар или шары, вот их маска.\n",
    "- Детекция объектов: в кадре находятся 7 шаров, вот зоны, где они располагаются.\n",
    "- Объектная сегментация: В кадре находится 7 шаров, вот маски, где они располагаются"
   ]
  },
  {
   "cell_type": "markdown",
   "metadata": {
    "slideshow": {
     "slide_type": "slide"
    }
   },
   "source": [
    "#### Классификация"
   ]
  },
  {
   "cell_type": "markdown",
   "metadata": {
    "slideshow": {
     "slide_type": "fragment"
    }
   },
   "source": [
    "<img src=\"materials/cnn.png\" alt=\"speed\" width=\"900\"/>"
   ]
  },
  {
   "cell_type": "markdown",
   "metadata": {
    "slideshow": {
     "slide_type": "subslide"
    }
   },
   "source": [
    "![pareto](materials/paretto.png)\n",
    "\n",
    "Взято с matworks https://www.mathworks.com/help/deeplearning/ug/pretrained-convolutional-neural-networks.html"
   ]
  },
  {
   "cell_type": "markdown",
   "metadata": {
    "slideshow": {
     "slide_type": "subslide"
    }
   },
   "source": [
    "Когда использовать:\n",
    "- Необходимо распознать условия окружающей среды для выбора оптимальный претренированных сетей (к примеру погоду или время суток)\n",
    "\n",
    "<img src=\"materials/cond.jpg\" alt=\"speed\" width=\"900\"/>"
   ]
  },
  {
   "cell_type": "markdown",
   "metadata": {
    "slideshow": {
     "slide_type": "subslide"
    }
   },
   "source": [
    "#### Детекция"
   ]
  },
  {
   "cell_type": "markdown",
   "metadata": {
    "slideshow": {
     "slide_type": "fragment"
    }
   },
   "source": [
    "<img src=\"materials/FasterRCNN.png\" alt=\"speed\" width=\"400\"/>\n",
    "\n",
    "Два наиболее популярных подхода:\n",
    "- RPN\n",
    "- Slide window"
   ]
  },
  {
   "cell_type": "markdown",
   "metadata": {
    "slideshow": {
     "slide_type": "subslide"
    }
   },
   "source": [
    "Когда использовать:\n",
    "    \n",
    "- Необходимо детектировать сам факт присутствия объекта (дор. знаки)\n",
    "- Искомый объект всегда подходит под прямоугольную форму (можно комплексировать прямо на кадре)\n",
    "- Точность комплексирования не так важна, либо с комплексированием не возникнет трудностей\n",
    "- Нужен трекинг объекта\n",
    "\n",
    "<img src=\"materials/znak.jpg\" alt=\"speed\" width=\"600\"/>"
   ]
  },
  {
   "cell_type": "markdown",
   "metadata": {
    "slideshow": {
     "slide_type": "subslide"
    }
   },
   "source": [
    "<img src=\"materials/detection_way.png\" alt=\"detection\" width=\"600\"/>"
   ]
  },
  {
   "cell_type": "markdown",
   "metadata": {
    "slideshow": {
     "slide_type": "subslide"
    }
   },
   "source": [
    "#### Семантическая сегментация"
   ]
  },
  {
   "cell_type": "markdown",
   "metadata": {
    "slideshow": {
     "slide_type": "fragment"
    }
   },
   "source": [
    "<img src=\"materials/cat_segmentation.png\" alt=\"speed\" width=\"600\"/>"
   ]
  },
  {
   "cell_type": "markdown",
   "metadata": {
    "slideshow": {
     "slide_type": "subslide"
    }
   },
   "source": [
    "- Необходимо использовать sensor fusion с датчиками, дающими информацию о 3D пространстве\n",
    "- Необходимо находить объекты большой площади на кадре\n",
    "- Разделение на сущности не важно\n",
    "\n",
    "<img src=\"materials/road.jpeg\" alt=\"speed\" width=\"600\"/>\n",
    "<img src=\"materials/LidarCameraKitti.png\" alt=\"speed\" width=\"600\"/>"
   ]
  },
  {
   "cell_type": "markdown",
   "metadata": {
    "slideshow": {
     "slide_type": "subslide"
    }
   },
   "source": [
    "#### Объектная сегментация"
   ]
  },
  {
   "cell_type": "markdown",
   "metadata": {
    "slideshow": {
     "slide_type": "fragment"
    }
   },
   "source": [
    "<img src=\"materials/maskrcnn.png\" alt=\"speed\" width=\"600\"/>"
   ]
  },
  {
   "cell_type": "markdown",
   "metadata": {
    "slideshow": {
     "slide_type": "subslide"
    }
   },
   "source": [
    "- Необходимо получать данные с высокой достоверностью\n",
    "- Искомые объекты можно разделить на сущности\n",
    "- Позволяют аппаратные ресурсы\n",
    "- Нужен трекинг объекта\n",
    "\n",
    "<img src=\"materials/ins.png\" alt=\"speed\" width=\"600\"/>"
   ]
  },
  {
   "cell_type": "markdown",
   "metadata": {
    "slideshow": {
     "slide_type": "subslide"
    }
   },
   "source": [
    "#### Детекция 3D"
   ]
  },
  {
   "cell_type": "markdown",
   "metadata": {
    "slideshow": {
     "slide_type": "fragment"
    }
   },
   "source": [
    "<img src=\"materials/header_3dobject.jpg\" alt=\"3d\" width=\"1200\"/>"
   ]
  },
  {
   "cell_type": "markdown",
   "metadata": {
    "slideshow": {
     "slide_type": "fragment"
    }
   },
   "source": [
    "- Методы, работающие по одному кадру\n",
    "- Методы, работающие по нескольким синхронным кадрам\n",
    "- Методы, работающие с помощью оптического потока\n",
    "- Методы, работающие с готовым трехмерным облаком точек"
   ]
  },
  {
   "cell_type": "markdown",
   "metadata": {
    "slideshow": {
     "slide_type": "subslide"
    }
   },
   "source": [
    "#### Когда применять?"
   ]
  },
  {
   "cell_type": "markdown",
   "metadata": {
    "slideshow": {
     "slide_type": "fragment"
    }
   },
   "source": [
    "В зависимости от входных данных, меняется и точность работы алгоритмов. Область применения - получение данных об объектах для их дальнейшего трекинга и предсказания пересечения траектории их движения с беспилотным транспортным средством"
   ]
  },
  {
   "cell_type": "markdown",
   "metadata": {
    "slideshow": {
     "slide_type": "subslide"
    }
   },
   "source": [
    "#### Детекция ключевых точек"
   ]
  },
  {
   "cell_type": "markdown",
   "metadata": {
    "slideshow": {
     "slide_type": "fragment"
    }
   },
   "source": [
    "<img src=\"materials/human_pose.png\" alt=\"pose\" width=\"1200\"/>"
   ]
  },
  {
   "cell_type": "markdown",
   "metadata": {
    "slideshow": {
     "slide_type": "subslide"
    }
   },
   "source": [
    "* Обнаруживать людей\n",
    "* Предсказывать их движение"
   ]
  },
  {
   "cell_type": "markdown",
   "metadata": {
    "slideshow": {
     "slide_type": "subslide"
    }
   },
   "source": [
    "#### Генерация изображения (аугментация ИИ)"
   ]
  },
  {
   "cell_type": "markdown",
   "metadata": {
    "slideshow": {
     "slide_type": "fragment"
    }
   },
   "source": [
    "<img src=\"materials/gta_cityscapes.png\" alt=\"gta_city\" width=\"800\"/>"
   ]
  },
  {
   "cell_type": "markdown",
   "metadata": {
    "slideshow": {
     "slide_type": "subslide"
    }
   },
   "source": [
    "<img src=\"materials/say_night.jpg\" alt=\"day_night\" width=\"800\"/>"
   ]
  },
  {
   "cell_type": "markdown",
   "metadata": {
    "slideshow": {
     "slide_type": "fragment"
    }
   },
   "source": [
    "* Аугменатция данных (день->ночь, зима->лето)\n",
    "* Повышение реалистичности симуляторов с встроенной разметкой"
   ]
  },
  {
   "cell_type": "markdown",
   "metadata": {
    "slideshow": {
     "slide_type": "subslide"
    }
   },
   "source": [
    "#### Повышение разрешения"
   ]
  },
  {
   "cell_type": "markdown",
   "metadata": {
    "slideshow": {
     "slide_type": "subslide"
    }
   },
   "source": [
    "<img src=\"materials/disp_super.jpg\" alt=\"disp_super\" width=\"600\"/>"
   ]
  },
  {
   "cell_type": "markdown",
   "metadata": {
    "slideshow": {
     "slide_type": "subslide"
    }
   },
   "source": [
    "* Повышение разрешения карты диспаратности\n",
    "* Уменьшение вычислительных ресурсов процессора\n",
    "* Уменьшение объема передаваемых данных при трансляции кадров"
   ]
  },
  {
   "cell_type": "markdown",
   "metadata": {
    "slideshow": {
     "slide_type": "subslide"
    }
   },
   "source": [
    "#### Предсказание глубины"
   ]
  },
  {
   "cell_type": "markdown",
   "metadata": {
    "slideshow": {
     "slide_type": "fragment"
    }
   },
   "source": [
    "<img src=\"materials/mono_depth.jpg\" alt=\"mono_depth\" width=\"800\"/>"
   ]
  },
  {
   "cell_type": "markdown",
   "metadata": {
    "slideshow": {
     "slide_type": "fragment"
    }
   },
   "source": [
    "* Предсказание глубины по одному кадру для обнаружения препятствий и предсказанию расстояния до объектов"
   ]
  },
  {
   "cell_type": "markdown",
   "metadata": {
    "slideshow": {
     "slide_type": "subslide"
    }
   },
   "source": [
    "#### End-to-end learning"
   ]
  },
  {
   "cell_type": "markdown",
   "metadata": {
    "slideshow": {
     "slide_type": "fragment"
    }
   },
   "source": [
    "<img src=\"materials/uda.png\" alt=\"uda\" width=\"700\"/>"
   ]
  },
  {
   "cell_type": "markdown",
   "metadata": {
    "slideshow": {
     "slide_type": "fragment"
    }
   },
   "source": [
    "Применение было показано в самом начале"
   ]
  },
  {
   "cell_type": "markdown",
   "metadata": {
    "slideshow": {
     "slide_type": "slide"
    }
   },
   "source": [
    "### Planning"
   ]
  },
  {
   "cell_type": "markdown",
   "metadata": {
    "slideshow": {
     "slide_type": "fragment"
    }
   },
   "source": [
    "По данным от модулей распознавания предпринять дальнейшие действия на модуль контроля"
   ]
  },
  {
   "cell_type": "markdown",
   "metadata": {
    "slideshow": {
     "slide_type": "skip"
    }
   },
   "source": [
    "### System managment (ROS, communications, etc.)"
   ]
  },
  {
   "cell_type": "markdown",
   "metadata": {
    "slideshow": {
     "slide_type": "skip"
    }
   },
   "source": [
    "* межязыковое взаимодействие\n",
    "* проверка на наличие аварийных ситуаций\n",
    "* разделение ресурсов"
   ]
  },
  {
   "cell_type": "markdown",
   "metadata": {
    "slideshow": {
     "slide_type": "skip"
    }
   },
   "source": [
    "~~Объективно~~ про ROS\n",
    "\n",
    "|За|Против|\n",
    "|-|-|\n",
    "|Отличные средства отладки и визуализации|Попытка быть универсальным фреймворком для всего, где есть слово robot|\n",
    "|Множество готовых модулей|Зачастую ROS пытаются внедрить потому что его внедряют или \"А собственно зачем нужен ROS\"|\n",
    "|Большое сообщество|Ад систем сборок, установки библиотек поверх и бестактное обращение с питоном|\n",
    "|Решается вопрос коммуникации между сервисами|ROS всегда дорабатывают|"
   ]
  },
  {
   "cell_type": "markdown",
   "metadata": {
    "slideshow": {
     "slide_type": "slide"
    }
   },
   "source": [
    "## Глава 2. Практика"
   ]
  },
  {
   "cell_type": "markdown",
   "metadata": {
    "slideshow": {
     "slide_type": "fragment"
    }
   },
   "source": [
    "<img src=\"materials/bad_code.jpg\" alt=\"bad\" width=\"300\"/>"
   ]
  },
  {
   "cell_type": "markdown",
   "metadata": {
    "slideshow": {
     "slide_type": "skip"
    }
   },
   "source": [
    "* reinforcement by pure frame\n",
    "* reinforcement by semantic only\n",
    "* classic strict way\n",
    "* reinforcement by state dict (own data format)"
   ]
  },
  {
   "cell_type": "code",
   "execution_count": 43,
   "metadata": {
    "slideshow": {
     "slide_type": "slide"
    }
   },
   "outputs": [],
   "source": [
    "import cv2 as cv      # library for classic computer vision\n",
    "import numpy as np    # library for working with matrices in python\n",
    "import matplotlib     # library for visualization\n",
    "import torch          # library for machine learning\n",
    "import torchvision    # pretrained models and preprocessing operations\n",
    "# import open3d as o3d  # library for working with 3d point cloud\n",
    "import PIL            # library for working with images"
   ]
  },
  {
   "cell_type": "code",
   "execution_count": 44,
   "metadata": {
    "slideshow": {
     "slide_type": "subslide"
    }
   },
   "outputs": [],
   "source": [
    "import glob\n",
    "import sys\n",
    "import os"
   ]
  },
  {
   "cell_type": "code",
   "execution_count": 45,
   "metadata": {
    "slideshow": {
     "slide_type": "subslide"
    }
   },
   "outputs": [],
   "source": [
    "sys.path.append('../')"
   ]
  },
  {
   "cell_type": "markdown",
   "metadata": {
    "slideshow": {
     "slide_type": "skip"
    }
   },
   "source": [
    "<!-- <img src=\"materials/open3d_logo_horizontal.png\" alt=\"open3d\" width=\"300\"/> -->"
   ]
  },
  {
   "cell_type": "markdown",
   "metadata": {
    "slideshow": {
     "slide_type": "subslide"
    }
   },
   "source": [
    "<img src=\"materials/pytorch-logo-dark.png\" alt=\"pytorch\" width=\"300\"/>"
   ]
  },
  {
   "cell_type": "markdown",
   "metadata": {
    "slideshow": {
     "slide_type": "fragment"
    }
   },
   "source": [
    "#### Почему PyTorch\n",
    "\n",
    "* python style\n",
    "* hub\n",
    "* community"
   ]
  },
  {
   "cell_type": "code",
   "execution_count": 6,
   "metadata": {
    "slideshow": {
     "slide_type": "skip"
    }
   },
   "outputs": [],
   "source": [
    "from CityScapesUtils import *  # useful stuff for cityscapes-like dataset"
   ]
  },
  {
   "cell_type": "markdown",
   "metadata": {
    "slideshow": {
     "slide_type": "skip"
    }
   },
   "source": [
    "create input/target transforms for dataset"
   ]
  },
  {
   "cell_type": "code",
   "execution_count": 7,
   "metadata": {
    "slideshow": {
     "slide_type": "skip"
    }
   },
   "outputs": [],
   "source": [
    "import torchvision.transforms as T\n",
    "\n",
    "def torch_unsqueeze(input):\n",
    "    return input.unsqueeze(0)\n",
    "\n",
    "input_transform = T.Compose([\n",
    "    T.ToTensor(), \n",
    "])\n",
    "\n",
    "def target_transform(type_in, type_out):\n",
    "    return T.Compose([\n",
    "        CityscapesTransform(type_in, type_out),\n",
    "        T.ToTensor(),\n",
    "    ])\n",
    "\n",
    "def target_in_net_transform(x):\n",
    "    return x.type(torch.LongTensor)[0]"
   ]
  },
  {
   "cell_type": "markdown",
   "metadata": {
    "slideshow": {
     "slide_type": "skip"
    }
   },
   "source": [
    "load carla dataset"
   ]
  },
  {
   "cell_type": "code",
   "execution_count": 8,
   "metadata": {
    "slideshow": {
     "slide_type": "skip"
    }
   },
   "outputs": [
    {
     "data": {
      "image/png": "[encoded data removed]",
      "text/plain": [
       "<Figure size 921.6x691.2 with 1 Axes>"
      ]
     },
     "metadata": {
      "needs_background": "light"
     },
     "output_type": "display_data"
    }
   ],
   "source": [
    "%matplotlib inline\n",
    "import matplotlib.pyplot as plt\n",
    "\n",
    "CARLA_dataset_path = '../../datasets/Carla_Sequence_04HIGH/'\n",
    "\n",
    "CARLA_validation_dataset = torchvision.datasets.Cityscapes(\n",
    "    CARLA_dataset_path, split='val', mode='fine', target_type='semantic',\n",
    "    transform=input_transform, target_transform=target_transform('CarlaClasses', 'CarlaClassesWithRoadLines'))\n",
    "\n",
    "CARLA_val_loader = torch.utils.data.DataLoader(\n",
    "    CARLA_validation_dataset, batch_size=1)\n",
    "\n",
    "g, smnt = CARLA_validation_dataset[2]\n",
    "\n",
    "matplotlib.rcParams['figure.figsize'] = [12.8, 9.6]\n",
    "plt.title('CARLA dataset. Carla classes target with road lines')\n",
    "plt.imshow(\n",
    "    np.hstack((\n",
    "        (g.numpy().transpose(1, 2, 0)*255).astype(np.uint8),\n",
    "        decode_cityscapes(smnt[0], mode='CarlaClassesWithRoadLines'))))\n",
    "plt.show()"
   ]
  },
  {
   "cell_type": "markdown",
   "metadata": {
    "slideshow": {
     "slide_type": "skip"
    }
   },
   "source": [
    "CarlaClasses"
   ]
  },
  {
   "cell_type": "markdown",
   "metadata": {
    "slideshow": {
     "slide_type": "slide"
    }
   },
   "source": [
    "Мы будем использовать:\n",
    "* Детекцию объектов\n",
    "* Семантическую сегментацию\n",
    "* Монокулярное стереозрение (оксюморон)\n",
    "* Преобразование перспективы (для проекции на 2D)"
   ]
  },
  {
   "cell_type": "code",
   "execution_count": 53,
   "metadata": {
    "slideshow": {
     "slide_type": "subslide"
    }
   },
   "outputs": [
    {
     "data": {
      "text/html": [
       "<video width=\"1024\" height=\"720\" controls autoplay>\n",
       "  <source src=\"materials/Peek 2019-04-03 11-22.mp4\" type=\"video/mp4\">\n",
       "</video>\n"
      ],
      "text/plain": [
       "<IPython.core.display.HTML object>"
      ]
     },
     "metadata": {},
     "output_type": "display_data"
    }
   ],
   "source": [
    "%%HTML\n",
    "<video width=\"1024\" height=\"720\" controls autoplay>\n",
    "  <source src=\"materials/Peek 2019-04-03 11-22.mp4\" type=\"video/mp4\">\n",
    "</video>"
   ]
  },
  {
   "cell_type": "markdown",
   "metadata": {
    "slideshow": {
     "slide_type": "slide"
    }
   },
   "source": [
    "### Давайте посмотрим небольшой ролик, записанный в карле"
   ]
  },
  {
   "cell_type": "code",
   "execution_count": 9,
   "metadata": {
    "slideshow": {
     "slide_type": "subslide"
    }
   },
   "outputs": [],
   "source": [
    "seq_video = cv.VideoWriter('source_data.webm', cv.VideoWriter_fourcc(*'VP80'), 10, (640, 480))"
   ]
  },
  {
   "cell_type": "code",
   "execution_count": 10,
   "metadata": {
    "slideshow": {
     "slide_type": "subslide"
    }
   },
   "outputs": [
    {
     "name": "stdout",
     "output_type": "stream",
     "text": [
      "181/182\r"
     ]
    }
   ],
   "source": [
    "import glob\n",
    "\n",
    "img_pathes = glob.glob(CARLA_dataset_path + 'leftImg8bit/*/*/*')\n",
    "img_count = len(img_pathes)\n",
    "\n",
    "for i, img in enumerate(sorted(img_pathes)):\n",
    "    img = cv.imread(img)\n",
    "    seq_video.write(img)\n",
    "    print('{}/{}'.format(i, img_count) , end='\\r')\n",
    "\n",
    "seq_video.release()"
   ]
  },
  {
   "cell_type": "code",
   "execution_count": 11,
   "metadata": {
    "slideshow": {
     "slide_type": "subslide"
    }
   },
   "outputs": [
    {
     "data": {
      "text/html": [
       "<video width=\"640\" height=\"480\" controls autoplay>\n",
       "  <source src=\"source_data.webm\" type=\"video/webm\">\n",
       "</video>\n"
      ],
      "text/plain": [
       "<IPython.core.display.HTML object>"
      ]
     },
     "metadata": {},
     "output_type": "display_data"
    }
   ],
   "source": [
    "%%HTML\n",
    "<video width=\"640\" height=\"480\" controls autoplay>\n",
    "  <source src=\"source_data.webm\" type=\"video/webm\">\n",
    "</video>"
   ]
  },
  {
   "cell_type": "markdown",
   "metadata": {
    "slideshow": {
     "slide_type": "slide"
    }
   },
   "source": [
    "### Проверим доступность видеокарты"
   ]
  },
  {
   "cell_type": "code",
   "execution_count": 46,
   "metadata": {
    "slideshow": {
     "slide_type": "fragment"
    }
   },
   "outputs": [
    {
     "data": {
      "text/plain": [
       "True"
      ]
     },
     "execution_count": 46,
     "metadata": {},
     "output_type": "execute_result"
    }
   ],
   "source": [
    "torch.cuda.is_available()"
   ]
  },
  {
   "cell_type": "markdown",
   "metadata": {
    "slideshow": {
     "slide_type": "subslide"
    }
   },
   "source": [
    "### Проверим ресурсы видеокарты"
   ]
  },
  {
   "cell_type": "code",
   "execution_count": 13,
   "metadata": {
    "slideshow": {
     "slide_type": "fragment"
    }
   },
   "outputs": [
    {
     "name": "stdout",
     "output_type": "stream",
     "text": [
      "Sat Nov  2 00:26:49 2019       \n",
      "+-----------------------------------------------------------------------------+\n",
      "| NVIDIA-SMI 418.87.01    Driver Version: 418.87.01    CUDA Version: 10.1     |\n",
      "|-------------------------------+----------------------+----------------------+\n",
      "| GPU  Name        Persistence-M| Bus-Id        Disp.A | Volatile Uncorr. ECC |\n",
      "| Fan  Temp  Perf  Pwr:Usage/Cap|         Memory-Usage | GPU-Util  Compute M. |\n",
      "|===============================+======================+======================|\n",
      "|   0  GeForce GTX 108...  Off  | 00000000:17:00.0 Off |                  N/A |\n",
      "| 20%   44C    P8     9W / 250W |     12MiB / 11178MiB |      0%      Default |\n",
      "+-------------------------------+----------------------+----------------------+\n",
      "                                                                               \n",
      "+-----------------------------------------------------------------------------+\n",
      "| Processes:                                                       GPU Memory |\n",
      "|  GPU       PID   Type   Process name                             Usage      |\n",
      "|=============================================================================|\n",
      "|  No running processes found                                                 |\n",
      "+-----------------------------------------------------------------------------+\n"
     ]
    }
   ],
   "source": [
    "!nvidia-smi -i 0"
   ]
  },
  {
   "cell_type": "markdown",
   "metadata": {
    "slideshow": {
     "slide_type": "slide"
    }
   },
   "source": [
    "### Найдем претренированную сеть для детекции"
   ]
  },
  {
   "cell_type": "markdown",
   "metadata": {
    "slideshow": {
     "slide_type": "fragment"
    }
   },
   "source": [
    "**Задача: обнаруживать объекты препятствий на дороге (люди, машины, животные)**"
   ]
  },
  {
   "cell_type": "markdown",
   "metadata": {
    "slideshow": {
     "slide_type": "subslide"
    }
   },
   "source": [
    "#### SSD"
   ]
  },
  {
   "cell_type": "code",
   "execution_count": 14,
   "metadata": {
    "slideshow": {
     "slide_type": "fragment"
    }
   },
   "outputs": [],
   "source": [
    "# ssd_model = torch.hub.load('NVIDIA/DeepLearningExamples:torchhub', 'nvidia_ssd', model_math='fp16').cuda().eval()"
   ]
  },
  {
   "cell_type": "code",
   "execution_count": 15,
   "metadata": {},
   "outputs": [],
   "source": [
    "# ssd_utils = torch.hub.load('NVIDIA/DeepLearningExamples:torchhub', 'nvidia_ssd_processing_utils')"
   ]
  },
  {
   "cell_type": "code",
   "execution_count": 16,
   "metadata": {},
   "outputs": [],
   "source": [
    "# classes_to_labels = ssd_utils.get_coco_object_dictionary()"
   ]
  },
  {
   "cell_type": "code",
   "execution_count": 17,
   "metadata": {},
   "outputs": [],
   "source": [
    "# %%time\n",
    "# ouput = None\n",
    "\n",
    "# ssd_video = cv.VideoWriter('ssd_example.webm', cv.VideoWriter_fourcc(*'VP80'), 10, (640, 480))\n",
    "\n",
    "# img_pathes = glob.glob(CARLA_dataset_path + 'leftImg8bit/*/*/*')\n",
    "# img_count = len(img_pathes)\n",
    "\n",
    "# for i, img in enumerate(sorted(img_pathes)):\n",
    "#     img = cv.imread(img)\n",
    "#     img = cv.cvtColor(img, cv.COLOR_BGR2RGB)\n",
    "#     tensor = T.ToTensor()(cv.resize(img, (300, 300)))\n",
    "#     tensor = tensor.unsqueeze(0)\n",
    "    \n",
    "#     output = ssd_model(tensor.half().cuda())\n",
    "#     try:\n",
    "#         results_per_input = ssd_utils.decode_results(output)\n",
    "#         best_results_per_input = [ssd_utils.pick_best(results, 0.40) for results in results_per_input]\n",
    "\n",
    "#         for image_idx in range(len(best_results_per_input)):\n",
    "#             bboxes, classes, confidences = best_results_per_input[image_idx]\n",
    "#             for idx in range(len(bboxes)):\n",
    "#                 left, bot, right, top = bboxes[idx]\n",
    "#                 x, y, w, h = [val * 300 for val in [left, bot, right - left, top - bot]]\n",
    "#                 x, y, w, h = int(x*2.13), int(y*1.6), int(w*2.13), int(h*1.6)\n",
    "#                 img = cv.rectangle(img, (x, y), (x+w, y+h), (0, 0, 255))\n",
    "                \n",
    "#                 img = cv.putText(\n",
    "#                     img, \"{} {:.0f}%\".format(classes_to_labels[classes[idx] - 1], confidences[idx]*100),\n",
    "#                     (x,y), cv.FONT_HERSHEY_SIMPLEX, 0.75,(255,255,255),1,cv.LINE_AA)\n",
    "#     except RuntimeError:\n",
    "#         pass\n",
    "    \n",
    "#     ssd_video.write(cv.cvtColor(img, cv.COLOR_RGB2BGR))\n",
    "#     print('{}/{}'.format(i, img_count) , end='\\r')\n",
    "\n",
    "# ssd_video.release()"
   ]
  },
  {
   "cell_type": "code",
   "execution_count": 18,
   "metadata": {
    "slideshow": {
     "slide_type": "subslide"
    }
   },
   "outputs": [
    {
     "data": {
      "text/html": [
       "<video width=\"640\" height=\"480\" controls autoplay>\n",
       "  <source src=\"ssd_example.webm\" type=\"video/webm\">\n",
       "</video>\n"
      ],
      "text/plain": [
       "<IPython.core.display.HTML object>"
      ]
     },
     "metadata": {},
     "output_type": "display_data"
    }
   ],
   "source": [
    "%%HTML\n",
    "<video width=\"640\" height=\"480\" controls autoplay>\n",
    "  <source src=\"ssd_example.webm\" type=\"video/webm\">\n",
    "</video>"
   ]
  },
  {
   "cell_type": "markdown",
   "metadata": {
    "slideshow": {
     "slide_type": "subslide"
    }
   },
   "source": [
    "#### Faster RCNN"
   ]
  },
  {
   "cell_type": "code",
   "execution_count": 19,
   "metadata": {
    "slideshow": {
     "slide_type": "fragment"
    }
   },
   "outputs": [],
   "source": [
    "faster_rcnn = torchvision.models.detection.fasterrcnn_resnet50_fpn(pretrained=True, min_size=300).cuda().eval()"
   ]
  },
  {
   "cell_type": "code",
   "execution_count": 19,
   "metadata": {
    "slideshow": {
     "slide_type": "subslide"
    }
   },
   "outputs": [],
   "source": [
    "COCO_INSTANCE_CATEGORY_NAMES = [\n",
    "    '__background__', 'person', 'bicycle', 'car', 'motorcycle', 'airplane', 'bus',\n",
    "    'train', 'truck', 'boat', 'traffic light', 'fire hydrant', 'N/A', 'stop sign',\n",
    "    'parking meter', 'bench', 'bird', 'cat', 'dog', 'horse', 'sheep', 'cow',\n",
    "    'elephant', 'bear', 'zebra', 'giraffe', 'N/A', 'backpack', 'umbrella', 'N/A', 'N/A',\n",
    "    'handbag', 'tie', 'suitcase', 'frisbee', 'skis', 'snowboard', 'sports ball',\n",
    "    'kite', 'baseball bat', 'baseball glove', 'skateboard', 'surfboard', 'tennis racket',\n",
    "    'bottle', 'N/A', 'wine glass', 'cup', 'fork', 'knife', 'spoon', 'bowl',\n",
    "    'banana', 'apple', 'sandwich', 'orange', 'broccoli', 'carrot', 'hot dog', 'pizza',\n",
    "    'donut', 'cake', 'chair', 'couch', 'potted plant', 'bed', 'N/A', 'dining table',\n",
    "    'N/A', 'N/A', 'toilet', 'N/A', 'tv', 'laptop', 'mouse', 'remote', 'keyboard', 'cell phone',\n",
    "    'microwave', 'oven', 'toaster', 'sink', 'refrigerator', 'N/A', 'book',\n",
    "    'clock', 'vase', 'scissors', 'teddy bear', 'hair drier', 'toothbrush'\n",
    "]"
   ]
  },
  {
   "cell_type": "code",
   "execution_count": 20,
   "metadata": {
    "slideshow": {
     "slide_type": "subslide"
    }
   },
   "outputs": [
    {
     "name": "stdout",
     "output_type": "stream",
     "text": [
      "CPU times: user 1min 3s, sys: 789 ms, total: 1min 3s\n",
      "Wall time: 17.8 s\n"
     ]
    }
   ],
   "source": [
    "%%time\n",
    "ouput = None\n",
    "\n",
    "faster_video = cv.VideoWriter('faster_rcnn_example.webm', cv.VideoWriter_fourcc(*'VP80'), 10, (640, 480))\n",
    "\n",
    "img_pathes = glob.glob(CARLA_dataset_path + 'leftImg8bit/*/*/*')\n",
    "img_count = len(img_pathes)"
   ]
  },
  {
   "cell_type": "code",
   "execution_count": null,
   "metadata": {
    "slideshow": {
     "slide_type": "subslide"
    }
   },
   "outputs": [],
   "source": [
    "for i, img in enumerate(sorted(img_pathes)):\n",
    "    img = cv.cvtColor(cv.imread(img), cv.COLOR_BGR2RGB)\n",
    "    tensor = T.ToTensor()(img)\n",
    "    tensor = tensor.unsqueeze(0)\n",
    "    \n",
    "    pred = faster_rcnn(tensor.cuda())[0]\n",
    "    \n",
    "    boxes = pred['boxes'].cpu().detach().numpy().astype(np.int32)\n",
    "    labels = pred['labels'].cpu().detach().numpy().astype(np.int32)\n",
    "    scores = pred['scores'].cpu().detach().numpy()\n",
    "    \n",
    "    for idx in range(len(boxes)):\n",
    "        box, label, score = boxes[idx], labels[idx], scores[idx]\n",
    "        \n",
    "        if score < 0.6:\n",
    "            continue\n",
    "        \n",
    "        x, y, x2, y2 = box\n",
    "        img = cv.rectangle(img, (x, y), (x2, y2), (0, 0, 255))\n",
    "        img = cv.putText(\n",
    "            img, \"{} {:.0f}%\".format(COCO_INSTANCE_CATEGORY_NAMES[label], score*100),\n",
    "            (x,y), cv.FONT_HERSHEY_SIMPLEX, 0.75,(255,255,255),1,cv.LINE_AA)\n",
    "    \n",
    "    faster_video.write(cv.cvtColor(img, cv.COLOR_RGB2BGR))\n",
    "    print('{}/{}'.format(i, img_count) , end='\\r')"
   ]
  },
  {
   "cell_type": "code",
   "execution_count": null,
   "metadata": {},
   "outputs": [],
   "source": [
    "faster_video.release()"
   ]
  },
  {
   "cell_type": "code",
   "execution_count": 21,
   "metadata": {
    "slideshow": {
     "slide_type": "subslide"
    }
   },
   "outputs": [
    {
     "data": {
      "text/html": [
       "<video width=\"640\" height=\"480\" controls autoplay>\n",
       "  <source src=\"faster_rcnn_example.webm\" type=\"video/webm\">\n",
       "</video>\n"
      ],
      "text/plain": [
       "<IPython.core.display.HTML object>"
      ]
     },
     "metadata": {},
     "output_type": "display_data"
    }
   ],
   "source": [
    "%%HTML\n",
    "<video width=\"640\" height=\"480\" controls autoplay>\n",
    "  <source src=\"faster_rcnn_example.webm\" type=\"video/webm\">\n",
    "</video>"
   ]
  },
  {
   "cell_type": "code",
   "execution_count": 22,
   "metadata": {
    "slideshow": {
     "slide_type": "subslide"
    }
   },
   "outputs": [
    {
     "name": "stdout",
     "output_type": "stream",
     "text": [
      "Sat Nov  2 00:27:27 2019       \n",
      "+-----------------------------------------------------------------------------+\n",
      "| NVIDIA-SMI 418.87.01    Driver Version: 418.87.01    CUDA Version: 10.1     |\n",
      "|-------------------------------+----------------------+----------------------+\n",
      "| GPU  Name        Persistence-M| Bus-Id        Disp.A | Volatile Uncorr. ECC |\n",
      "| Fan  Temp  Perf  Pwr:Usage/Cap|         Memory-Usage | GPU-Util  Compute M. |\n",
      "|===============================+======================+======================|\n",
      "|   0  GeForce GTX 108...  Off  | 00000000:17:00.0 Off |                  N/A |\n",
      "| 20%   48C    P2    57W / 250W |   1157MiB / 11178MiB |     15%      Default |\n",
      "+-------------------------------+----------------------+----------------------+\n",
      "                                                                               \n",
      "+-----------------------------------------------------------------------------+\n",
      "| Processes:                                                       GPU Memory |\n",
      "|  GPU       PID   Type   Process name                             Usage      |\n",
      "|=============================================================================|\n",
      "+-----------------------------------------------------------------------------+\n"
     ]
    }
   ],
   "source": [
    "!nvidia-smi -i 0"
   ]
  },
  {
   "cell_type": "markdown",
   "metadata": {
    "slideshow": {
     "slide_type": "slide"
    }
   },
   "source": [
    "#### Semantic segmentation"
   ]
  },
  {
   "cell_type": "markdown",
   "metadata": {
    "slideshow": {
     "slide_type": "fragment"
    }
   },
   "source": [
    "**Обнаруживать проходимый путь**"
   ]
  },
  {
   "cell_type": "markdown",
   "metadata": {
    "slideshow": {
     "slide_type": "fragment"
    }
   },
   "source": [
    "* DeepLab v3 (resnet101), COCO\n",
    "* FCN (resnet101), COCO"
   ]
  },
  {
   "cell_type": "markdown",
   "metadata": {
    "slideshow": {
     "slide_type": "subslide"
    }
   },
   "source": [
    "DeepLab v3 (Squeeze net), KITTI"
   ]
  },
  {
   "cell_type": "code",
   "execution_count": 24,
   "metadata": {
    "slideshow": {
     "slide_type": "subslide"
    }
   },
   "outputs": [],
   "source": [
    "semantic_segmentation = torch.hub.load('sid1057/self-driving-cars-utils', 'DeepSqueeze', pretrained=True).cuda().eval().half()"
   ]
  },
  {
   "cell_type": "code",
   "execution_count": 25,
   "metadata": {
    "slideshow": {
     "slide_type": "subslide"
    }
   },
   "outputs": [
    {
     "name": "stdout",
     "output_type": "stream",
     "text": [
      "CPU times: user 1min, sys: 363 ms, total: 1min\n",
      "Wall time: 16 s\n"
     ]
    }
   ],
   "source": [
    "%%time\n",
    "\n",
    "segm_video = cv.VideoWriter('segm.webm', cv.VideoWriter_fourcc(*'VP80'), 10, (640, 480))\n",
    "\n",
    "img_pathes = glob.glob(CARLA_dataset_path + 'leftImg8bit/*/*/*')\n",
    "img_count = len(img_pathes)\n",
    "\n",
    "for i, img in enumerate(sorted(img_pathes)):\n",
    "    img = cv.imread(img)\n",
    "    img = cv.cvtColor(img, cv.COLOR_BGR2RGB)\n",
    "    \n",
    "    tensor = T.ToTensor()(img)\n",
    "    tensor = tensor.unsqueeze(0)\n",
    "    \n",
    "    output = semantic_segmentation(tensor.cuda().half()).float()\n",
    "\n",
    "    output = torch.argmax(output.squeeze(), dim=0).detach().cpu().numpy()\n",
    "    output = decode_cityscapes(output, mode='CityScapesClasses')\n",
    "    \n",
    "    segm_video.write(cv.cvtColor(cv.addWeighted(output, 0.5, img, 0.9, 0), cv.COLOR_RGB2BGR))\n",
    "    print('{}/{}'.format(i, img_count) , end='\\r')\n",
    "\n",
    "segm_video.release()"
   ]
  },
  {
   "cell_type": "code",
   "execution_count": 26,
   "metadata": {
    "slideshow": {
     "slide_type": "subslide"
    }
   },
   "outputs": [
    {
     "data": {
      "text/html": [
       "<video width=\"640\" height=\"480\" controls autoplay>\n",
       "  <source src=\"segm.webm\" type=\"video/webm\">\n",
       "</video>\n"
      ],
      "text/plain": [
       "<IPython.core.display.HTML object>"
      ]
     },
     "metadata": {},
     "output_type": "display_data"
    }
   ],
   "source": [
    "%%HTML\n",
    "<video width=\"640\" height=\"480\" controls autoplay>\n",
    "  <source src=\"segm.webm\" type=\"video/webm\">\n",
    "</video>"
   ]
  },
  {
   "cell_type": "code",
   "execution_count": 27,
   "metadata": {
    "slideshow": {
     "slide_type": "subslide"
    }
   },
   "outputs": [
    {
     "name": "stdout",
     "output_type": "stream",
     "text": [
      "Sat Nov  2 00:27:50 2019       \n",
      "+-----------------------------------------------------------------------------+\n",
      "| NVIDIA-SMI 418.87.01    Driver Version: 418.87.01    CUDA Version: 10.1     |\n",
      "|-------------------------------+----------------------+----------------------+\n",
      "| GPU  Name        Persistence-M| Bus-Id        Disp.A | Volatile Uncorr. ECC |\n",
      "| Fan  Temp  Perf  Pwr:Usage/Cap|         Memory-Usage | GPU-Util  Compute M. |\n",
      "|===============================+======================+======================|\n",
      "|   0  GeForce GTX 108...  Off  | 00000000:17:00.0 Off |                  N/A |\n",
      "| 20%   50C    P2    57W / 250W |   1163MiB / 11178MiB |      9%      Default |\n",
      "+-------------------------------+----------------------+----------------------+\n",
      "                                                                               \n",
      "+-----------------------------------------------------------------------------+\n",
      "| Processes:                                                       GPU Memory |\n",
      "|  GPU       PID   Type   Process name                             Usage      |\n",
      "|=============================================================================|\n",
      "+-----------------------------------------------------------------------------+\n"
     ]
    }
   ],
   "source": [
    "!nvidia-smi -i 0"
   ]
  },
  {
   "cell_type": "markdown",
   "metadata": {
    "slideshow": {
     "slide_type": "slide"
    }
   },
   "source": [
    "### Предсказание глубины"
   ]
  },
  {
   "cell_type": "markdown",
   "metadata": {
    "slideshow": {
     "slide_type": "fragment"
    }
   },
   "source": [
    "**Для особых объектов(машины, люди, животные), предсказывать расстояние и координату в пространстве**\n",
    "*задел на будущее*"
   ]
  },
  {
   "cell_type": "markdown",
   "metadata": {
    "slideshow": {
     "slide_type": "fragment"
    }
   },
   "source": [
    "#### MonoDepth2 [https://github.com/nianticlabs/monodepth2/](https://github.com/nianticlabs/monodepth2/)"
   ]
  },
  {
   "cell_type": "code",
   "execution_count": 28,
   "metadata": {
    "slideshow": {
     "slide_type": "fragment"
    }
   },
   "outputs": [],
   "source": [
    "import networks\n",
    "from utils import download_model_if_doesnt_exist"
   ]
  },
  {
   "cell_type": "code",
   "execution_count": 29,
   "metadata": {
    "slideshow": {
     "slide_type": "subslide"
    }
   },
   "outputs": [],
   "source": [
    "model_name = \"mono_640x192\"\n",
    "\n",
    "download_model_if_doesnt_exist(model_name)\n",
    "encoder_path = os.path.join(\"models\", model_name, \"encoder.pth\")\n",
    "depth_decoder_path = os.path.join(\"models\", model_name, \"depth.pth\")\n",
    "\n",
    "# LOADING PRETRAINED MODEL\n",
    "encoder = networks.ResnetEncoder(18, False)\n",
    "depth_decoder = networks.DepthDecoder(num_ch_enc=encoder.num_ch_enc, scales=range(4))\n",
    "\n",
    "loaded_dict_enc = torch.load(encoder_path, map_location='cpu')\n",
    "filtered_dict_enc = {k: v for k, v in loaded_dict_enc.items() if k in encoder.state_dict()}\n",
    "encoder.load_state_dict(filtered_dict_enc)\n",
    "\n",
    "loaded_dict = torch.load(depth_decoder_path, map_location='cpu')\n",
    "depth_decoder.load_state_dict(loaded_dict)\n",
    "\n",
    "encoder.cuda().eval()\n",
    "depth_decoder.cuda().eval();"
   ]
  },
  {
   "cell_type": "code",
   "execution_count": 30,
   "metadata": {
    "slideshow": {
     "slide_type": "subslide"
    }
   },
   "outputs": [
    {
     "name": "stdout",
     "output_type": "stream",
     "text": [
      "CPU times: user 1min 11s, sys: 289 ms, total: 1min 11s\n",
      "Wall time: 16.1 s\n"
     ]
    }
   ],
   "source": [
    "%%time\n",
    "\n",
    "import PIL.Image as pil\n",
    "from layers import disp_to_depth\n",
    "\n",
    "depth_video = cv.VideoWriter('depth.webm', cv.VideoWriter_fourcc(*'VP80'), 10, (640, 480))\n",
    "\n",
    "img_pathes = glob.glob(CARLA_dataset_path + 'leftImg8bit/*/*/*')\n",
    "img_count = len(img_pathes)"
   ]
  },
  {
   "cell_type": "code",
   "execution_count": null,
   "metadata": {
    "slideshow": {
     "slide_type": "subslide"
    }
   },
   "outputs": [],
   "source": [
    "for i, img in enumerate(sorted(img_pathes)):\n",
    "    img = cv.cvtColor(cv.imread(img), cv.COLOR_BGR2RGB)\n",
    "\n",
    "    input_image = T.ToPILImage()(img)\n",
    "    original_width, original_height = input_image.size\n",
    "\n",
    "    feed_height = loaded_dict_enc['height']\n",
    "    feed_width = loaded_dict_enc['width']\n",
    "    input_image_resized = input_image.resize((feed_width, feed_height), pil.LANCZOS)\n",
    "\n",
    "    input_image_pytorch = T.ToTensor()(input_image_resized).unsqueeze(0)\n",
    "\n",
    "    with torch.no_grad():\n",
    "        features = encoder(input_image_pytorch.cuda())\n",
    "        outputs = depth_decoder(features)\n",
    "\n",
    "    disp = outputs[(\"disp\", 0)].cpu()\n",
    "    disp_resized = torch.nn.functional.interpolate(\n",
    "        disp, (original_height, original_width), mode=\"bilinear\", align_corners=False)\n",
    "    \n",
    "    pred_disp, _ = disp_to_depth(disp_resized, 10, 100)\n",
    "    pred_disp = pred_disp.cpu()[:, 0].numpy()\n",
    "\n",
    "    pred_depth = 5.4 / pred_disp\n",
    "    disp_resized_np = cv.applyColorMap(\n",
    "        cv.normalize(pred_depth[0], None, 0, 255, cv.NORM_MINMAX).astype(np.uint8), cv.COLORMAP_RAINBOW)\n",
    "    \n",
    "    depth_video.write(cv.cvtColor(cv.addWeighted(disp_resized_np, 0.5, img, 0.9, 0), cv.COLOR_RGB2BGR))\n",
    "    print('{}/{}'.format(i, img_count) , end='\\r')"
   ]
  },
  {
   "cell_type": "code",
   "execution_count": null,
   "metadata": {},
   "outputs": [],
   "source": [
    "depth_video.release()"
   ]
  },
  {
   "cell_type": "code",
   "execution_count": 31,
   "metadata": {
    "slideshow": {
     "slide_type": "subslide"
    }
   },
   "outputs": [
    {
     "data": {
      "text/html": [
       "<video width=\"640\" height=\"480\" controls autoplay>\n",
       "  <source src=\"depth.webm\" type=\"video/webm\">\n",
       "</video>\n"
      ],
      "text/plain": [
       "<IPython.core.display.HTML object>"
      ]
     },
     "metadata": {},
     "output_type": "display_data"
    }
   ],
   "source": [
    "%%HTML\n",
    "<video width=\"640\" height=\"480\" controls autoplay>\n",
    "  <source src=\"depth.webm\" type=\"video/webm\">\n",
    "</video>"
   ]
  },
  {
   "cell_type": "code",
   "execution_count": 32,
   "metadata": {
    "slideshow": {
     "slide_type": "subslide"
    }
   },
   "outputs": [
    {
     "name": "stdout",
     "output_type": "stream",
     "text": [
      "Sat Nov  2 00:28:07 2019       \n",
      "+-----------------------------------------------------------------------------+\n",
      "| NVIDIA-SMI 418.87.01    Driver Version: 418.87.01    CUDA Version: 10.1     |\n",
      "|-------------------------------+----------------------+----------------------+\n",
      "| GPU  Name        Persistence-M| Bus-Id        Disp.A | Volatile Uncorr. ECC |\n",
      "| Fan  Temp  Perf  Pwr:Usage/Cap|         Memory-Usage | GPU-Util  Compute M. |\n",
      "|===============================+======================+======================|\n",
      "|   0  GeForce GTX 108...  Off  | 00000000:17:00.0 Off |                  N/A |\n",
      "| 20%   52C    P2    57W / 250W |   1163MiB / 11178MiB |      0%      Default |\n",
      "+-------------------------------+----------------------+----------------------+\n",
      "                                                                               \n",
      "+-----------------------------------------------------------------------------+\n",
      "| Processes:                                                       GPU Memory |\n",
      "|  GPU       PID   Type   Process name                             Usage      |\n",
      "|=============================================================================|\n",
      "+-----------------------------------------------------------------------------+\n"
     ]
    }
   ],
   "source": [
    "!nvidia-smi -i 0"
   ]
  },
  {
   "cell_type": "markdown",
   "metadata": {
    "slideshow": {
     "slide_type": "slide"
    }
   },
   "source": [
    "### Оформим все в виде функций"
   ]
  },
  {
   "cell_type": "markdown",
   "metadata": {
    "slideshow": {
     "slide_type": "subslide"
    }
   },
   "source": [
    "#### Получение глубины"
   ]
  },
  {
   "cell_type": "code",
   "execution_count": 33,
   "metadata": {
    "slideshow": {
     "slide_type": "subslide"
    }
   },
   "outputs": [],
   "source": [
    "def get_depth(img_rgb):\n",
    "    input_image = T.ToPILImage()(img)\n",
    "    original_width, original_height = input_image.size\n",
    "\n",
    "    feed_height = loaded_dict_enc['height']\n",
    "    feed_width = loaded_dict_enc['width']\n",
    "    input_image_resized = input_image.resize((feed_width, feed_height), pil.LANCZOS)\n",
    "\n",
    "    input_image_pytorch = T.ToTensor()(input_image_resized).unsqueeze(0)\n",
    "\n",
    "    with torch.no_grad():\n",
    "        features = encoder(input_image_pytorch.cuda())\n",
    "        outputs = depth_decoder(features)\n",
    "\n",
    "    disp = outputs[(\"disp\", 0)].cpu()\n",
    "    disp_resized = torch.nn.functional.interpolate(\n",
    "        disp, (original_height, original_width), mode=\"bilinear\", align_corners=False)\n",
    "    \n",
    "    pred_disp, _ = disp_to_depth(disp_resized, 10, 256)\n",
    "    pred_disp = pred_disp.cpu()[:, 0].numpy()\n",
    "\n",
    "#     pred_depth = 5.4 / pred_disp\n",
    "    pred_depth = 1 / pred_disp\n",
    "    return pred_depth[0]"
   ]
  },
  {
   "cell_type": "markdown",
   "metadata": {
    "slideshow": {
     "slide_type": "subslide"
    }
   },
   "source": [
    "#### Сегментация дороги"
   ]
  },
  {
   "cell_type": "code",
   "execution_count": 34,
   "metadata": {
    "slideshow": {
     "slide_type": "subslide"
    }
   },
   "outputs": [],
   "source": [
    "def get_road_mask(img_rgb):\n",
    "    tensor = T.ToTensor()(img)\n",
    "    tensor = tensor.unsqueeze(0)\n",
    "    \n",
    "    output = semantic_segmentation(tensor.cuda().half()).float()\n",
    "\n",
    "    output = torch.argmax(output.squeeze(), dim=0).detach().cpu().numpy()\n",
    "    return cv.inRange(output, 7, 7)"
   ]
  },
  {
   "cell_type": "markdown",
   "metadata": {
    "slideshow": {
     "slide_type": "subslide"
    }
   },
   "source": [
    "#### Детекция объектов"
   ]
  },
  {
   "cell_type": "code",
   "execution_count": 49,
   "metadata": {
    "slideshow": {
     "slide_type": "subslide"
    }
   },
   "outputs": [],
   "source": [
    "COCO_INSTANCE_CATEGORY_NAMES = [\n",
    "    '__background__', 'person', 'bicycle', 'car', 'motorcycle', 'airplane', 'bus',\n",
    "    'train', 'truck', 'boat', 'traffic light', 'fire hydrant', 'N/A', 'stop sign',\n",
    "    'parking meter', 'bench', 'bird', 'cat', 'dog', 'horse', 'sheep', 'cow',\n",
    "    'elephant', 'bear', 'zebra', 'giraffe', 'N/A', 'backpack', 'umbrella', 'N/A', 'N/A',\n",
    "    'handbag', 'tie', 'suitcase', 'frisbee', 'skis', 'snowboard', 'sports ball',\n",
    "    'kite', 'baseball bat', 'baseball glove', 'skateboard', 'surfboard', 'tennis racket',\n",
    "    'bottle', 'N/A', 'wine glass', 'cup', 'fork', 'knife', 'spoon', 'bowl',\n",
    "    'banana', 'apple', 'sandwich', 'orange', 'broccoli', 'carrot', 'hot dog', 'pizza',\n",
    "    'donut', 'cake', 'chair', 'couch', 'potted plant', 'bed', 'N/A', 'dining table',\n",
    "    'N/A', 'N/A', 'toilet', 'N/A', 'tv', 'laptop', 'mouse', 'remote', 'keyboard', 'cell phone',\n",
    "    'microwave', 'oven', 'toaster', 'sink', 'refrigerator', 'N/A', 'book',\n",
    "    'clock', 'vase', 'scissors', 'teddy bear', 'hair drier', 'toothbrush'\n",
    "]\n"
   ]
  },
  {
   "cell_type": "code",
   "execution_count": 50,
   "metadata": {
    "slideshow": {
     "slide_type": "subslide"
    }
   },
   "outputs": [],
   "source": [
    "ROADWAY_OBSTACLES = [\n",
    "    'person', 'bicycle', 'car', 'motorcycle', 'airplane', 'bus',\n",
    "    'train', 'truck', 'boat', 'cat', 'dog', 'horse', 'sheep', 'cow',\n",
    "    'elephant', 'bear', 'zebra', 'giraffe'\n",
    "]"
   ]
  },
  {
   "cell_type": "code",
   "execution_count": 35,
   "metadata": {
    "slideshow": {
     "slide_type": "subslide"
    }
   },
   "outputs": [],
   "source": [
    "def get_bboxes(img_rgb, depth=None):    \n",
    "    mask_filled, mask_bbox, mask_dist = np.zeros_like(img_rgb), np.zeros_like(img_rgb), np.zeros_like(img_rgb)\n",
    "\n",
    "    img = img_rgb.copy()\n",
    "    tensor = T.ToTensor()(img)\n",
    "    tensor = tensor.unsqueeze(0)\n",
    "    \n",
    "    pred = faster_rcnn(tensor.cuda())[0]\n",
    "    \n",
    "    boxes = pred['boxes'].cpu().detach().numpy().astype(np.int32)\n",
    "    labels = pred['labels'].cpu().detach().numpy().astype(np.int32)\n",
    "    scores = pred['scores'].cpu().detach().numpy()\n",
    "    \n",
    "    for idx in range(len(boxes)):\n",
    "        box, label, score = boxes[idx], labels[idx], scores[idx]\n",
    "        \n",
    "        if score < 0.6 or not (COCO_INSTANCE_CATEGORY_NAMES[label] in ROADWAY_OBSTACLES):\n",
    "            continue\n",
    "        \n",
    "        x, y, x2, y2 = box\n",
    "        mask_bbox = cv.rectangle(mask_bbox, (x, y), (x2, y2), (0, 0, 255))\n",
    "        mask_filled = cv.rectangle(mask_filled, (x, y), (x2, y2), (255, 0, 0), cv.FILLED)\n",
    "        mask_dist = cv.rectangle(mask_dist, (x, y), (x2, y2), (0, 0, 255))\n",
    "        \n",
    "        mask_bbox = cv.putText(\n",
    "            mask_bbox, \"{} {:.0f}%\".format(COCO_INSTANCE_CATEGORY_NAMES[label], score*100),\n",
    "            (x,y), cv.FONT_HERSHEY_SIMPLEX, 0.75,(255,255,255),1,cv.LINE_AA)\n",
    "        \n",
    "        if depth is not None:\n",
    "            dist = depth[y2-1:y2, x2-1:x2].mean().astype(np.uint8)\n",
    "            mask_dist = cv.putText(\n",
    "                mask_dist, \"{}m\".format(dist),\n",
    "                (x,y), cv.FONT_HERSHEY_SIMPLEX, 0.75,(255,255,255),1,cv.LINE_AA)\n",
    "        \n",
    "    return mask_filled, mask_bbox, mask_dist"
   ]
  },
  {
   "cell_type": "code",
   "execution_count": 35,
   "metadata": {
    "slideshow": {
     "slide_type": "subslide"
    }
   },
   "outputs": [],
   "source": [
    "%\n",
    "        mask_bbox = cv.putText(\n",
    "            mask_bbox, \"{} {:.0f}%\".format(COCO_INSTANCE_CATEGORY_NAMES[label], score*100),\n",
    "            (x,y), cv.FONT_HERSHEY_SIMPLEX, 0.75,(255,255,255),1,cv.LINE_AA)\n",
    "        \n",
    "        if depth is not None:\n",
    "            dist = depth[y2-1:y2, x2-1:x2].mean().astype(np.uint8)\n",
    "            mask_dist = cv.putText(\n",
    "                mask_dist, \"{}m\".format(dist),\n",
    "                (x,y), cv.FONT_HERSHEY_SIMPLEX, 0.75,(255,255,255),1,cv.LINE_AA)\n",
    "        \n",
    "    return mask_filled, mask_bbox, mask_dist"
   ]
  },
  {
   "cell_type": "markdown",
   "metadata": {
    "slideshow": {
     "slide_type": "subslide"
    }
   },
   "source": [
    "#### Преобразование перспективы"
   ]
  },
  {
   "cell_type": "code",
   "execution_count": 36,
   "metadata": {
    "slideshow": {
     "slide_type": "subslide"
    }
   },
   "outputs": [],
   "source": [
    "IMAGE_H = 480\n",
    "IMAGE_W = 640\n",
    "\n",
    "src = np.float32([[292, 275], [353, 275], [564, 480], [55, 480]])\n",
    "dst = np.float32([[IMAGE_W//8*3, IMAGE_H//2], [IMAGE_W//8*5, IMAGE_H//2], [IMAGE_W//8*5, IMAGE_H], [IMAGE_W//8*3, IMAGE_H]])\n",
    "M = cv.getPerspectiveTransform(src, dst) # The transformation matrix\n",
    "    \n",
    "def get_bird_view(img_rgb):\n",
    "    return cv.warpPerspective(img_rgb, M, (IMAGE_W, IMAGE_H))"
   ]
  },
  {
   "cell_type": "markdown",
   "metadata": {
    "slideshow": {
     "slide_type": "subslide"
    }
   },
   "source": [
    "#### Объединяем все вместе"
   ]
  },
  {
   "cell_type": "code",
   "execution_count": 37,
   "metadata": {
    "slideshow": {
     "slide_type": "subslide"
    }
   },
   "outputs": [
    {
     "name": "stdout",
     "output_type": "stream",
     "text": [
      "CPU times: user 2min 13s, sys: 1.39 s, total: 2min 14s\n",
      "Wall time: 51.7 s\n"
     ]
    }
   ],
   "source": [
    "%%time\n",
    "\n",
    "import PIL.Image as pil\n",
    "from layers import disp_to_depth\n",
    "\n",
    "complex_video = cv.VideoWriter('complex.webm', cv.VideoWriter_fourcc(*'VP80'), 10, (640*2, 480*2))\n",
    "\n",
    "img_pathes = glob.glob(CARLA_dataset_path + 'leftImg8bit/*/*/*')\n",
    "img_count = len(img_pathes)"
   ]
  },
  {
   "cell_type": "code",
   "execution_count": null,
   "metadata": {
    "slideshow": {
     "slide_type": "subslide"
    }
   },
   "outputs": [],
   "source": [
    "for i, img in enumerate(sorted(img_pathes)):\n",
    "    result_image = np.zeros((480*2, 640*2, 3), dtype=np.uint8)\n",
    "    \n",
    "    img = cv.imread(img)\n",
    "    cv.imwrite('img.png', img)\n",
    "    img_rgb = cv.cvtColor(img, cv.COLOR_BGR2RGB)\n",
    "    \n",
    "    road_mask = get_road_mask(img_rgb)\n",
    "    depth = get_depth(img_rgb)\n",
    "    mask_filled, mask_bbox, mask_dist = get_bboxes(img_rgb, depth)\n",
    "    \n",
    "    view = cv.add(img_rgb, mask_filled)\n",
    "    view[..., 1] = cv.addWeighted(view[..., 1], 1, road_mask, 0.3, 0)\n",
    "    view = get_bird_view(view)\n",
    "    \n",
    "    complex_image = img_rgb.copy()\n",
    "    complex_image[..., 1] = cv.addWeighted(complex_image[..., 1], 1, road_mask, 0.3, 0)\n",
    "    complex_image = cv.add(complex_image, mask_dist)\n",
    "    \n",
    "    depth_for_viz = cv.applyColorMap(\n",
    "        cv.normalize(depth, None, 0, 255, cv.NORM_MINMAX).astype(np.uint8), cv.COLORMAP_RAINBOW)\n",
    "    depth_for_viz = cv.cvtColor(depth_for_viz, cv.COLOR_BGR2RGB)\n",
    "    \n",
    "    result_image[:480, :640] = img_rgb\n",
    "    result_image[:480, 640:] = complex_image\n",
    "    result_image[480:, :640] = depth_for_viz\n",
    "    result_image[480:, 640:] = view\n",
    "    \n",
    "    complex_video.write(cv.cvtColor(result_image, cv.COLOR_RGB2BGR))\n",
    "    print('{}/{}'.format(i, img_count) , end='\\r')"
   ]
  },
  {
   "cell_type": "code",
   "execution_count": null,
   "metadata": {},
   "outputs": [],
   "source": [
    "complex_video.release()"
   ]
  },
  {
   "cell_type": "code",
   "execution_count": 39,
   "metadata": {
    "slideshow": {
     "slide_type": "subslide"
    }
   },
   "outputs": [
    {
     "data": {
      "text/html": [
       "<video width=\"1280\" height=\"720\" controls autoplay>\n",
       "  <source src=\"complex.webm\" type=\"video/webm\">\n",
       "</video>\n"
      ],
      "text/plain": [
       "<IPython.core.display.HTML object>"
      ]
     },
     "metadata": {},
     "output_type": "display_data"
    }
   ],
   "source": [
    "%%HTML\n",
    "<video width=\"1280\" height=\"720\" controls autoplay>\n",
    "  <source src=\"complex.webm\" type=\"video/webm\">\n",
    "</video>"
   ]
  },
  {
   "cell_type": "code",
   "execution_count": 40,
   "metadata": {
    "slideshow": {
     "slide_type": "subslide"
    }
   },
   "outputs": [
    {
     "name": "stdout",
     "output_type": "stream",
     "text": [
      "Sat Nov  2 00:28:59 2019       \n",
      "+-----------------------------------------------------------------------------+\n",
      "| NVIDIA-SMI 418.87.01    Driver Version: 418.87.01    CUDA Version: 10.1     |\n",
      "|-------------------------------+----------------------+----------------------+\n",
      "| GPU  Name        Persistence-M| Bus-Id        Disp.A | Volatile Uncorr. ECC |\n",
      "| Fan  Temp  Perf  Pwr:Usage/Cap|         Memory-Usage | GPU-Util  Compute M. |\n",
      "|===============================+======================+======================|\n",
      "|   0  GeForce GTX 108...  Off  | 00000000:17:00.0 Off |                  N/A |\n",
      "| 20%   56C    P2    59W / 250W |   1259MiB / 11178MiB |     14%      Default |\n",
      "+-------------------------------+----------------------+----------------------+\n",
      "                                                                               \n",
      "+-----------------------------------------------------------------------------+\n",
      "| Processes:                                                       GPU Memory |\n",
      "|  GPU       PID   Type   Process name                             Usage      |\n",
      "|=============================================================================|\n",
      "+-----------------------------------------------------------------------------+\n"
     ]
    }
   ],
   "source": [
    "!nvidia-smi -i 0"
   ]
  },
  {
   "cell_type": "markdown",
   "metadata": {
    "slideshow": {
     "slide_type": "subslide"
    }
   },
   "source": [
    "* Это в 3 раза меньше чем память у Jetson Nano за ~99$\n",
    "\n",
    "<img src=\"materials/nano.jpg\" alt=\"jpg\" width=\"600\"/>"
   ]
  },
  {
   "cell_type": "markdown",
   "metadata": {
    "slideshow": {
     "slide_type": "slide"
    }
   },
   "source": [
    "<img src=\"materials/ernest.jpg\" alt=\"bad\" width=\"300\"/>"
   ]
  },
  {
   "cell_type": "markdown",
   "metadata": {
    "slideshow": {
     "slide_type": "slide"
    }
   },
   "source": [
    "Кто ещё делает нечто подобное?\n",
    "* comma.ai\n",
    "* sendtex"
   ]
  },
  {
   "cell_type": "markdown",
   "metadata": {
    "slideshow": {
     "slide_type": "subslide"
    }
   },
   "source": [
    "## Что дальше?"
   ]
  },
  {
   "cell_type": "markdown",
   "metadata": {
    "slideshow": {
     "slide_type": "subslide"
    }
   },
   "source": [
    "### Следующая игра?"
   ]
  },
  {
   "cell_type": "markdown",
   "metadata": {
    "slideshow": {
     "slide_type": "subslide"
    }
   },
   "source": [
    "<img src=\"materials/speed_poster.jpg\" alt=\"speed\" width=\"300\"/>"
   ]
  },
  {
   "cell_type": "markdown",
   "metadata": {
    "slideshow": {
     "slide_type": "subslide"
    }
   },
   "source": [
    "* Не снижать скорость ниже заданного значения\n",
    "* Данные берутся только с одной камеры\n",
    "* Избегать столкновений, ориентируясь как на препятствия, так и на дорожную обстановку"
   ]
  },
  {
   "cell_type": "markdown",
   "metadata": {
    "slideshow": {
     "slide_type": "fragment"
    }
   },
   "source": [
    "Для этого требуется:\n",
    "\n",
    "* Разработать программную архитектуру\n",
    "* Написать скрипт контроля\n",
    "* Написать модуль планирования"
   ]
  },
  {
   "cell_type": "markdown",
   "metadata": {
    "slideshow": {
     "slide_type": "subslide"
    }
   },
   "source": [
    "<img src=\"materials/outrun.jpg\" alt=\"speed\" width=\"300\"/>"
   ]
  },
  {
   "cell_type": "markdown",
   "metadata": {
    "slideshow": {
     "slide_type": "fragment"
    }
   },
   "source": [
    "Out Run: За наименьшее время добраться из пункта А в пункт Б не попав в аварию"
   ]
  },
  {
   "cell_type": "markdown",
   "metadata": {
    "slideshow": {
     "slide_type": "subslide"
    }
   },
   "source": [
    "<img src=\"materials/chasehq.jpg\" alt=\"chasehq\" width=\"300\"/>"
   ]
  },
  {
   "cell_type": "markdown",
   "metadata": {
    "slideshow": {
     "slide_type": "fragment"
    }
   },
   "source": [
    "Chase HQ: Протаранить машину преступника, которая соответствует написанной сегодня нами"
   ]
  },
  {
   "cell_type": "markdown",
   "metadata": {
    "slideshow": {
     "slide_type": "subslide"
    }
   },
   "source": [
    "<img src=\"materials/f1.jpg\" alt=\"f1\" width=\"300\"/>"
   ]
  },
  {
   "cell_type": "markdown",
   "metadata": {
    "slideshow": {
     "slide_type": "fragment"
    }
   },
   "source": [
    "F1: пройти закрытый от других участников движения маршрут быстрее соперников"
   ]
  },
  {
   "cell_type": "markdown",
   "metadata": {
    "slideshow": {
     "slide_type": "subslide"
    }
   },
   "source": [
    "<img src=\"materials/colimmcrae.jpg\" alt=\"mcrae\" width=\"300\"/>"
   ]
  },
  {
   "cell_type": "markdown",
   "metadata": {
    "slideshow": {
     "slide_type": "fragment"
    }
   },
   "source": [
    "Colin McRae 2.0: Пройти маршрут по открытой местности быстрее соперников"
   ]
  },
  {
   "cell_type": "markdown",
   "metadata": {
    "slideshow": {
     "slide_type": "subslide"
    }
   },
   "source": [
    "<img src=\"materials/mostwanted.jpg\" alt=\"nfs\" width=\"300\"/>"
   ]
  },
  {
   "cell_type": "markdown",
   "metadata": {
    "slideshow": {
     "slide_type": "fragment"
    }
   },
   "source": [
    "NFS Most Wanted (2003): Пройти городской маршрут быстрее соперников, при условии ухода от погони"
   ]
  },
  {
   "cell_type": "markdown",
   "metadata": {
    "slideshow": {
     "slide_type": "slide"
    }
   },
   "source": [
    "### Где подвох?"
   ]
  },
  {
   "cell_type": "markdown",
   "metadata": {
    "slideshow": {
     "slide_type": "subslide"
    }
   },
   "source": [
    "* Хорошие условия эксплуатации"
   ]
  },
  {
   "cell_type": "markdown",
   "metadata": {
    "slideshow": {
     "slide_type": "fragment"
    }
   },
   "source": [
    "* 99.(9)%"
   ]
  },
  {
   "cell_type": "markdown",
   "metadata": {
    "slideshow": {
     "slide_type": "fragment"
    }
   },
   "source": [
    "* Аппаратная часть"
   ]
  },
  {
   "cell_type": "markdown",
   "metadata": {
    "slideshow": {
     "slide_type": "fragment"
    }
   },
   "source": [
    "* Нет необходимости комплексировать различные датчики"
   ]
  },
  {
   "cell_type": "markdown",
   "metadata": {
    "slideshow": {
     "slide_type": "fragment"
    }
   },
   "source": [
    "* Нет модуля планирования"
   ]
  },
  {
   "cell_type": "markdown",
   "metadata": {
    "slideshow": {
     "slide_type": "fragment"
    }
   },
   "source": [
    "* Модуль контроля из коробки"
   ]
  },
  {
   "cell_type": "markdown",
   "metadata": {
    "slideshow": {
     "slide_type": "slide"
    }
   },
   "source": [
    "# Спасибо за внимание!"
   ]
  },
  {
   "cell_type": "markdown",
   "metadata": {
    "slideshow": {
     "slide_type": "fragment"
    }
   },
   "source": [
    "* **email**: ivanov.dale@gmail.com  (`topic: self-driving`)\n",
    "* **github**: sid1057\n",
    "* **linkedin**: ivan-deylid\n",
    "\n",
    "Ссылка на код, презентацию, материалы и продолжение тутора: [sid1057.github.io/self-driving](https://sid1057.github.io/self-driving/)"
   ]
  }
 ],
 "metadata": {
  "kernelspec": {
   "display_name": "Python 3",
   "language": "python",
   "name": "python3"
  },
  "language_info": {
   "codemirror_mode": {
    "name": "ipython",
    "version": 3
   },
   "file_extension": ".py",
   "mimetype": "text/x-python",
   "name": "python",
   "nbconvert_exporter": "python",
   "pygments_lexer": "ipython3",
   "version": "3.6.3"
  }
 },
 "nbformat": 4,
 "nbformat_minor": 4
}
