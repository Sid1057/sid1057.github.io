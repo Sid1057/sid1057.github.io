{
 "cells": [
  {
   "cell_type": "code",
   "execution_count": 78,
   "metadata": {},
   "outputs": [
    {
     "name": "stdout",
     "output_type": "stream",
     "text": [
      "time: 1.94 ms\n"
     ]
    }
   ],
   "source": [
    "import numpy as np"
   ]
  },
  {
   "cell_type": "code",
   "execution_count": 73,
   "metadata": {},
   "outputs": [
    {
     "name": "stdout",
     "output_type": "stream",
     "text": [
      "The cython extension is already loaded. To reload it, use:\n",
      "  %reload_ext cython\n",
      "The autotime extension is already loaded. To reload it, use:\n",
      "  %reload_ext autotime\n",
      "time: 6.81 ms\n"
     ]
    }
   ],
   "source": [
    "%load_ext cython\n",
    "%load_ext autotime"
   ]
  },
  {
   "cell_type": "code",
   "execution_count": 74,
   "metadata": {},
   "outputs": [
    {
     "name": "stdout",
     "output_type": "stream",
     "text": [
      "time: 3.39 ms\n"
     ]
    }
   ],
   "source": [
    "def f(x):\n",
    "    return x**2-x\n",
    "\n",
    "def integrate_f(a, b, N):\n",
    "    s = 0\n",
    "    dx = (b-a)/N\n",
    "    for i in range(N):\n",
    "        s += f(a + dx * i)\n",
    "    return s * dx\n",
    "    "
   ]
  },
  {
   "cell_type": "code",
   "execution_count": 75,
   "metadata": {},
   "outputs": [
    {
     "data": {
      "text/plain": [
       "283.3328833334909"
      ]
     },
     "execution_count": 75,
     "metadata": {},
     "output_type": "execute_result"
    },
    {
     "name": "stdout",
     "output_type": "stream",
     "text": [
      "time: 333 ms\n"
     ]
    }
   ],
   "source": [
    "integrate_f(0, 10, 1000000)"
   ]
  },
  {
   "cell_type": "code",
   "execution_count": 76,
   "metadata": {},
   "outputs": [
    {
     "name": "stdout",
     "output_type": "stream",
     "text": [
      "time: 3.26 ms\n"
     ]
    }
   ],
   "source": [
    "%%cython\n",
    "\n",
    "def f(x):\n",
    "    return x**2-x\n",
    "\n",
    "def integrate_f(a, b, N):\n",
    "    s = 0\n",
    "    dx = (b-a)/N\n",
    "    for i in range(N):\n",
    "        s += f(a + dx * i)\n",
    "    return s * dx\n",
    "\n",
    "\n",
    "integrate_f(0, 10, 1000000)"
   ]
  },
  {
   "cell_type": "code",
   "execution_count": 77,
   "metadata": {},
   "outputs": [
    {
     "data": {
      "text/plain": [
       "283.3328833334909"
      ]
     },
     "execution_count": 77,
     "metadata": {},
     "output_type": "execute_result"
    },
    {
     "name": "stdout",
     "output_type": "stream",
     "text": [
      "time: 231 ms\n"
     ]
    }
   ],
   "source": [
    "integrate_f(0, 10, 1000000)"
   ]
  },
  {
   "cell_type": "code",
   "execution_count": 5,
   "metadata": {},
   "outputs": [
    {
     "name": "stdout",
     "output_type": "stream",
     "text": [
      "time: 2.13 ms\n"
     ]
    },
    {
     "name": "stderr",
     "output_type": "stream",
     "text": [
      "UsageError: %%cython is a cell magic, but the cell body is empty.\n"
     ]
    }
   ],
   "source": [
    "%%cython"
   ]
  },
  {
   "cell_type": "markdown",
   "metadata": {},
   "source": [
    "# 5 reasons to use cython instead python"
   ]
  },
  {
   "cell_type": "markdown",
   "metadata": {},
   "source": [
    "## 1: for using cython you could stay code as it is"
   ]
  },
  {
   "cell_type": "markdown",
   "metadata": {},
   "source": [
    "## 2: you could use strict types"
   ]
  },
  {
   "cell_type": "markdown",
   "metadata": {},
   "source": [
    "## 3: you could use functions from C and C++ which haven't bindings to python\n",
    "\n",
    "For me it was CUDA functions in OpenCV"
   ]
  },
  {
   "cell_type": "markdown",
   "metadata": {},
   "source": [
    "## 4: you could make your code faster very well"
   ]
  },
  {
   "cell_type": "markdown",
   "metadata": {},
   "source": [
    "## 5: you can use a simple mechanism to do effective multithreading behaviour"
   ]
  },
  {
   "cell_type": "markdown",
   "metadata": {},
   "source": [
    "## Conclusion"
   ]
  },
  {
   "cell_type": "markdown",
   "metadata": {},
   "source": []
  },
  {
   "cell_type": "code",
   "execution_count": 82,
   "metadata": {},
   "outputs": [
    {
     "name": "stdout",
     "output_type": "stream",
     "text": [
      "absl-py==0.2.2\n",
      "apturl==0.5.2\n",
      "astor==0.7.1\n",
      "astroid==2.0.4\n",
      "backcall==0.1.0\n",
      "beautifulsoup4==4.4.1\n",
      "bleach==3.0.2\n",
      "Brlapi==0.6.4\n",
      "chardet==2.3.0\n",
      "command-not-found==0.3\n",
      "cycler==0.9.0\n",
      "Cython==0.23.4\n",
      "decorator==4.0.6\n",
      "defer==1.0.6\n",
      "defusedxml==0.5.0\n",
      "docutils==0.12\n",
      "entrypoints==0.2.3\n",
      "flake8==3.5.0\n",
      "gast==0.2.0\n",
      "grpcio==1.13.0\n",
      "h5py==2.7.1\n",
      "html5lib==0.999\n",
      "ipykernel==5.1.0\n",
      "ipython==2.4.1\n",
      "ipython-genutils==0.2.0\n",
      "ipywidgets==7.4.2\n",
      "isort==4.3.4\n",
      "jedi==0.13.1\n",
      "Jinja2==2.10\n",
      "jsonschema==2.6.0\n",
      "jupyter==1.0.0\n",
      "jupyter-client==5.2.3\n",
      "jupyter-console==6.0.0\n",
      "jupyter-core==4.4.0\n",
      "Keras==2.1.3\n",
      "language-selector==0.1\n",
      "lazy-object-proxy==1.3.1\n",
      "lightdm-gtk-greeter-settings==1.2.1\n",
      "louis==2.6.4\n",
      "lxml==3.5.0\n",
      "Mako==1.0.3\n",
      "Markdown==2.6.6\n",
      "Markups==1.0.1\n",
      "MarkupSafe==0.23\n",
      "mate-tweak==3.5.10\n",
      "matplotlib==1.5.1\n",
      "mccabe==0.6.1\n",
      "mgen==1.2.0\n",
      "mistune==0.8.4\n",
      "moderngl==5.4.2\n",
      "mpmath==0.19\n",
      "nbconvert==5.4.0\n",
      "nbformat==4.4.0\n",
      "notebook==5.7.0\n",
      "numexpr==2.4.3\n",
      "numpy==1.11.0\n",
      "onboard==1.2.0\n",
      "pandas==0.17.1\n",
      "pandocfilters==1.4.2\n",
      "parso==0.3.1\n",
      "pbr==5.1.1\n",
      "pep8==1.7.0\n",
      "pexpect==4.0.1\n",
      "pickleshare==0.7.5\n",
      "pilkit==1.1.13\n",
      "Pillow==3.1.2\n",
      "polib==1.0.7\n",
      "prometheus-client==0.4.2\n",
      "prompt-toolkit==2.0.7\n",
      "protobuf==3.6.0\n",
      "psutil==3.4.2\n",
      "ptyprocess==0.5\n",
      "pycodestyle==2.3.1\n",
      "pycups==1.9.73\n",
      "pycurl==7.43.0\n",
      "pyenchant==1.6.6\n",
      "pyflakes==1.6.0\n",
      "Pygments==2.1\n",
      "pygobject==3.20.0\n",
      "pygpu==0.7.5+11.g04c2892\n",
      "PyICU==1.9.2\n",
      "pylint==2.1.1\n",
      "pyparsing==2.0.3\n",
      "python-apt==1.1.0b1+ubuntu0.16.4.1\n",
      "python-dateutil==2.4.2\n",
      "python-debian==0.1.27\n",
      "python-systemd==231\n",
      "pytz==2014.10\n",
      "pyxdg==0.25\n",
      "PyYAML==3.11\n",
      "pyzmq==17.1.2\n",
      "qtconsole==4.4.2\n",
      "reportlab==3.3.0\n",
      "requests==2.9.1\n",
      "roman==2.0.0\n",
      "scapy==2.4.0\n",
      "scikit-learn==0.19.1\n",
      "scipy==0.17.0\n",
      "screen-resolution-extra==0.0.0\n",
      "Send2Trash==1.5.0\n",
      "sessioninstaller==0.0.0\n",
      "simplegeneric==0.8.1\n",
      "six==1.10.0\n",
      "sympy==0.7.6.1\n",
      "tables==3.2.2\n",
      "tensorboard==1.9.0\n",
      "tensorflow==1.9.0\n",
      "tensorflow-gpu==1.9.0\n",
      "termcolor==1.1.0\n",
      "terminado==0.8.1\n",
      "testpath==0.4.2\n",
      "textile==2.2.2\n",
      "Theano==1.0.1+36.g91f71fc\n",
      "tornado==5.1.1\n",
      "traitlets==4.3.2\n",
      "typed-ast==1.1.0\n",
      "ubuntu-drivers-common==0.0.0\n",
      "ufw==0.35\n",
      "unattended-upgrades==0.1\n",
      "urllib3==1.13.1\n",
      "usb-creator==0.3.0\n",
      "virtualenv==16.0.0\n",
      "wcwidth==0.1.7\n",
      "webencodings==0.5.1\n",
      "Werkzeug==0.14.1\n",
      "widgetsnbextension==3.4.2\n",
      "wrapt==1.10.11\n",
      "xkit==0.0.0\n",
      "\u001b[33mYou are using pip version 8.1.1, however version 18.1 is available.\n",
      "You should consider upgrading via the 'pip install --upgrade pip' command.\u001b[0m\n",
      "time: 1.05 s\n"
     ]
    }
   ],
   "source": [
    "!pip3 freeze"
   ]
  },
  {
   "cell_type": "code",
   "execution_count": null,
   "metadata": {},
   "outputs": [],
   "source": []
  }
 ],
 "metadata": {
  "kernelspec": {
   "display_name": "pytorch",
   "language": "python",
   "name": "pytorch"
  },
  "language_info": {
   "codemirror_mode": {
    "name": "ipython",
    "version": 3
   },
   "file_extension": ".py",
   "mimetype": "text/x-python",
   "name": "python",
   "nbconvert_exporter": "python",
   "pygments_lexer": "ipython3",
   "version": "3.5.2"
  }
 },
 "nbformat": 4,
 "nbformat_minor": 2
}
